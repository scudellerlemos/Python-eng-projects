{
 "cells": [
  {
   "cell_type": "code",
   "execution_count": 2,
   "metadata": {},
   "outputs": [],
   "source": [
    "def f():\n",
    "    a=5\n",
    "    b=6\n",
    "    c=2\n",
    "    return a,b,c"
   ]
  },
  {
   "cell_type": "code",
   "execution_count": 4,
   "metadata": {},
   "outputs": [],
   "source": [
    "g,h,i=f()"
   ]
  },
  {
   "cell_type": "code",
   "execution_count": 6,
   "metadata": {},
   "outputs": [],
   "source": [
    "def f2():\n",
    "    a=5\n",
    "    b=6\n",
    "    c=2\n",
    "    return {'a':a,'b':b,'c':c}"
   ]
  },
  {
   "cell_type": "code",
   "execution_count": 10,
   "metadata": {},
   "outputs": [
    {
     "name": "stdout",
     "output_type": "stream",
     "text": [
      "{'a': 5, 'b': 6, 'c': 2}\n",
      "5\n",
      "6\n",
      "2\n"
     ]
    }
   ],
   "source": [
    "return_value=f2()\n",
    "print(return_value)\n",
    "print(return_value['a'])\n",
    "print(return_value['b'])\n",
    "print(return_value['c'])"
   ]
  }
 ],
 "metadata": {
  "interpreter": {
   "hash": "43888f077bd4690fd13740e4fb3e715bb64facb976d1648c14231d891c61574a"
  },
  "kernelspec": {
   "display_name": "Python 3.9.13 64-bit",
   "language": "python",
   "name": "python3"
  },
  "language_info": {
   "codemirror_mode": {
    "name": "ipython",
    "version": 3
   },
   "file_extension": ".py",
   "mimetype": "text/x-python",
   "name": "python",
   "nbconvert_exporter": "python",
   "pygments_lexer": "ipython3",
   "version": "3.9.13"
  },
  "orig_nbformat": 4
 },
 "nbformat": 4,
 "nbformat_minor": 2
}
