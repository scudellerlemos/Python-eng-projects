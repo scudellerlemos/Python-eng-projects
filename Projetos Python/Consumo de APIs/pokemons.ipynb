{
 "cells": [
  {
   "cell_type": "code",
   "execution_count": 94,
   "metadata": {},
   "outputs": [],
   "source": [
    "import json\n",
    "import requests as re\n",
    "import pandas as pd"
   ]
  },
  {
   "cell_type": "code",
   "execution_count": 95,
   "metadata": {},
   "outputs": [],
   "source": [
    "def dados(tipo,id):\n",
    "    response = re.get(\"https://pokeapi.co/api/v2/\"+ tipo +\"/\" + (id))\n",
    "    return response.json()\n",
    "\n",
    "    \n",
    "def dados_pokemon_all(grupo):\n",
    "    response = re.get(\"https://pokeapi.co/api/v2/\" + grupo +\"/\")\n",
    "    print(response.status_code)\n",
    "    return response.json()\n",
    "\n",
    "def flatten_data(y):\n",
    "    out = {}\n",
    "\n",
    "    def flatten(x, name=''):\n",
    "        if type(x) is dict:\n",
    "            for a in x:\n",
    "                flatten(x[a], name + a + '_')\n",
    "        elif type(x) is list:\n",
    "            i = 0\n",
    "            for a in x:\n",
    "                flatten(a, name + str(i) + '_')\n",
    "                i += 1\n",
    "        else:\n",
    "            out[name[:-1]] = x\n",
    "\n",
    "    flatten(y)\n",
    "    return out\n",
    "\n",
    "def select_colunas(df):\n",
    "    df = pd.DataFrame(df)\n",
    "    df = df.columns * (df.applymap(type) == str).all(0)\n",
    "    df.replace(regex=\"\",value=float(\"NaN\"), inplace=True)\n",
    "    df.dropna(axis=\"index\", inplace=True)\n",
    "    df.reset_index(drop=True, inplace=True)\n",
    "    df = df.tolist()\n",
    "    return df\n",
    "    \n",
    "def select_valores_dict(df,agg):\n",
    "    df = pd.DataFrame(df)\n",
    "    df = df.columns * (df.applymap(type) == int).all(0)\n",
    "    df.replace(regex=\"\",value=float(\"NaN\"), inplace=True)\n",
    "    df.dropna(axis=\"index\", inplace=True)\n",
    "    df.reset_index(drop=True, inplace=True)\n",
    "    df = df.tolist()\n",
    "    df_dict = {}\n",
    "    for x in df:\n",
    "        df_dict[x] = agg\n",
    "    return df_dict"
   ]
  },
  {
   "cell_type": "code",
   "execution_count": 96,
   "metadata": {},
   "outputs": [
    {
     "name": "stdout",
     "output_type": "stream",
     "text": [
      "200\n"
     ]
    }
   ],
   "source": [
    "F_fato = pd.DataFrame(dados_pokemon_all(\"pokemon\")[\"results\"])\n",
    "F_fato.columns = [\"pokemon\",\"ID_FATO\"]\n",
    "\n",
    "FD_pokemon= pd.DataFrame([])\n",
    "for id in range(1, F_fato[\"pokemon\"].count()+1):\n",
    "    SUP_linha = dados(\"pokemon\",str(id))\n",
    "    SUP_pokemon_dimensao = pd.DataFrame(flatten_data(SUP_linha),index=flatten_data(SUP_linha).keys())\n",
    "    SUP_pokemon_dimensao.drop(list(SUP_pokemon_dimensao.filter(regex = \"sprite\")), axis = 1, inplace = True)\n",
    "    SUP_pokemon_dimensao.drop(list(SUP_pokemon_dimensao.filter(regex = \"moves\")), axis = 1, inplace = True)\n",
    "    SUP_pokemon_dimensao.drop(list(SUP_pokemon_dimensao.filter(regex = \"game\")), axis = 1, inplace = True)\n",
    "    SUP_pokemon_dimensao.drop(list(SUP_pokemon_dimensao.filter(regex = \"is_hidden\")), axis = 1, inplace = True)\n",
    "    SUP_pokemon_dimensao.drop(list(SUP_pokemon_dimensao.filter(regex = \"is_default\")), axis = 1, inplace = True)\n",
    "    SUP_pokemon_dimensao.drop(list(SUP_pokemon_dimensao.filter(regex = \"slot\")), axis = 1, inplace = True)\n",
    "    SUP_pokemon_dimensao.drop(list(SUP_pokemon_dimensao.filter(regex = \"effort\")), axis = 1, inplace = True)\n",
    "    SUP_pokemon_dimensao.drop(list(SUP_pokemon_dimensao.filter(regex = \"forms\")), axis = 1, inplace = True)\n",
    "    SUP_pokemon_dimensao.drop(list(SUP_pokemon_dimensao.filter(regex = \"held\")), axis = 1, inplace = True)\n",
    "    SUP_pokemon_dimensao.drop(list(SUP_pokemon_dimensao.filter(regex = \"abilities_2\")), axis = 1, inplace = True)\n",
    "    SUP_pokemon_dimensao.drop(list(SUP_pokemon_dimensao.filter(regex = \"abilities_1\")), axis = 1, inplace = True)\n",
    "    SUP_pokemon_dimensao.drop([\"id\",\"order\",\"name\",\"species_name\",\"species_url\"], axis = 1, inplace = True)\n",
    "    SUP_pokemon_dimensao[\"ID_FATO\"]=\"https://pokeapi.co/api/v2/pokemon/\"+ str(id) + \"/\"\n",
    "    SUP_pokemon_dimensao = SUP_pokemon_dimensao.iloc[:1].reset_index(drop=True)\n",
    "    FD_pokemon= pd.concat([FD_pokemon,SUP_pokemon_dimensao])\n",
    "FD_pokemon.set_index(\"ID_FATO\", inplace = True)"
   ]
  },
  {
   "cell_type": "code",
   "execution_count": 97,
   "metadata": {},
   "outputs": [],
   "source": [
    "SUP_col =list(FD_pokemon.columns)\n",
    "\n",
    "for x in range (0,6):\n",
    "    SUP_col[SUP_col.index(\"stats_\"+ str(x) +\"_base_stat\")] = FD_pokemon[\"stats_\"+ str(x) +\"_stat_name\"][0]\n",
    "\n",
    "SUP_col[SUP_col.index(\"abilities_0_ability_name\")] = \"ability_passive\" \n",
    "SUP_col[SUP_col.index(\"types_0_type_name\")] = \"type\" \n",
    "SUP_col[SUP_col.index(\"types_0_type_url\")] = \"type_url\"\n",
    "SUP_col[SUP_col.index(\"abilities_0_ability_url\")] = \"ability_url\"\n",
    " \n",
    "FD_pokemon.columns = SUP_col\n",
    "FD_pokemon.drop(list(FD_pokemon.filter(regex = \"stats\")), axis = 1, inplace = True)\n"
   ]
  },
  {
   "cell_type": "code",
   "execution_count": 98,
   "metadata": {},
   "outputs": [],
   "source": [
    "FD_ability= pd.DataFrame([])\n",
    "\n",
    "for id in range(1, 150):\n",
    "    SUP_linha = dados(\"ability\",str(id))\n",
    "    SUP_pokemon_dimensao = pd.DataFrame(flatten_data(SUP_linha),index=flatten_data(SUP_linha).keys())\n",
    "    SUP_pokemon_dimensao = SUP_pokemon_dimensao.query('effect_entries_1_language_name==\"en\"')\n",
    "    SUP_col = list(SUP_pokemon_dimensao.columns)\n",
    "    SUP_col[SUP_col.index(\"effect_entries_1_short_effect\")] = \"ability_description\"\n",
    "    SUP_pokemon_dimensao.columns = SUP_col\n",
    "    SUP_pokemon_dimensao.drop(list(SUP_pokemon_dimensao.filter(regex = \"name\")), axis = 1, inplace = True)\n",
    "    SUP_pokemon_dimensao.drop(list(SUP_pokemon_dimensao.filter(regex = \"pokemon\")), axis = 1, inplace = True)\n",
    "    SUP_pokemon_dimensao.drop(list(SUP_pokemon_dimensao.filter(regex = \"effect\")), axis = 1, inplace = True)\n",
    "    SUP_pokemon_dimensao.drop(list(SUP_pokemon_dimensao.filter(regex = \"flavor\")), axis = 1, inplace = True)\n",
    "    SUP_pokemon_dimensao.drop(list(SUP_pokemon_dimensao.filter(regex = \"generation_url\")), axis = 1, inplace = True)\n",
    "    SUP_pokemon_dimensao.drop(list(SUP_pokemon_dimensao.filter(regex = \"is_main_series\")), axis = 1, inplace = True)\n",
    "    SUP_pokemon_dimensao.drop(list(SUP_pokemon_dimensao.filter(regex = \"id\")), axis = 1, inplace = True)\n",
    "    SUP_pokemon_dimensao[\"ability_url\"]=\"https://pokeapi.co/api/v2/ability/\"+ str(id) + \"/\"\n",
    "    SUP_pokemon_dimensao = SUP_pokemon_dimensao.iloc[:1].reset_index(drop=True)\n",
    "    FD_ability= pd.concat([FD_ability,SUP_pokemon_dimensao])\n",
    "\n"
   ]
  },
  {
   "cell_type": "code",
   "execution_count": 100,
   "metadata": {},
   "outputs": [],
   "source": [
    "FA_pokemon = F_fato.merge(FD_pokemon, how='left', on=\"ID_FATO\")\n",
    "FA_pokemon = FA_pokemon.merge(FD_ability, how='left', on=\"ability_url\")\n",
    "FA_pokemon.drop(list(FA_pokemon.filter(regex = \"type_\")), axis = 1, inplace = True)\n",
    "FA_pokemon.drop(list(FA_pokemon.filter(regex = \"types\")), axis = 1, inplace = True)\n"
   ]
  }
 ],
 "metadata": {
  "interpreter": {
   "hash": "43888f077bd4690fd13740e4fb3e715bb64facb976d1648c14231d891c61574a"
  },
  "kernelspec": {
   "display_name": "Python 3.9.13 64-bit",
   "language": "python",
   "name": "python3"
  },
  "language_info": {
   "codemirror_mode": {
    "name": "ipython",
    "version": 3
   },
   "file_extension": ".py",
   "mimetype": "text/x-python",
   "name": "python",
   "nbconvert_exporter": "python",
   "pygments_lexer": "ipython3",
   "version": "3.9.13"
  },
  "orig_nbformat": 4,
  "vscode": {
   "interpreter": {
    "hash": "43888f077bd4690fd13740e4fb3e715bb64facb976d1648c14231d891c61574a"
   }
  }
 },
 "nbformat": 4,
 "nbformat_minor": 2
}
