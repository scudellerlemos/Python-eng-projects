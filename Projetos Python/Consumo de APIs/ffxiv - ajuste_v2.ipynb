{
 "cells": [
  {
   "cell_type": "markdown",
   "metadata": {},
   "source": [
    "Bibliotecas utilizadas"
   ]
  },
  {
   "cell_type": "code",
   "execution_count": 1,
   "metadata": {},
   "outputs": [],
   "source": [
    "import pandas as pd\n",
    "import requests as req\n",
    "import datetime as date\n",
    "import numpy as np\n",
    "import math"
   ]
  },
  {
   "cell_type": "markdown",
   "metadata": {},
   "source": [
    "Funções salvas"
   ]
  },
  {
   "cell_type": "code",
   "execution_count": 2,
   "metadata": {},
   "outputs": [],
   "source": [
    "def dados_FC():\n",
    "    response = req.get(\"https://xivapi.com/freecompany/9234349560946614930?data=FCM\")\n",
    "    return response.json()\n",
    "\n",
    "def personagens(id):\n",
    "    response = req.get(\"https://xivapi.com/character/\"+ id)\n",
    "    return response.json()\n",
    "\n",
    "def discord():\n",
    "    headers = {\n",
    "        'authorization':'MTgxMTQxOTc4NDI2MjQ1MTQx.GWyYGY.tmzxSxYRbfvoS5YlfVl-cfY8vOia3LqiOBYsh8'\n",
    "    }\n",
    "    response = req.get(f\"https://discord.com/api/v9/channels/766131659111268392/messages\", headers=headers)\n",
    "    return response.json()\n",
    "\n",
    "def discord_50_m(id):\n",
    "    headers = {\n",
    "        'authorization':'MTgxMTQxOTc4NDI2MjQ1MTQx.GWyYGY.tmzxSxYRbfvoS5YlfVl-cfY8vOia3LqiOBYsh8'\n",
    "    }\n",
    "    response = req.get(f\"https://discord.com/api/v9/channels/766131659111268392/messages?before=\" + id + \"&limit=50\", headers=headers)\n",
    "    return response.json()\n",
    "    \n"
   ]
  },
  {
   "cell_type": "markdown",
   "metadata": {},
   "source": [
    "4- [FATO] Tabela Membros"
   ]
  },
  {
   "cell_type": "code",
   "execution_count": 3,
   "metadata": {},
   "outputs": [],
   "source": [
    "FATO_MEMBROS_FC = pd.DataFrame(dados_FC()[\"FreeCompanyMembers\"])\n",
    "FATO_MEMBROS_FC.drop([\"Lang\",\"RankIcon\",\"FeastMatches\",\"Server\"],axis = 1, inplace = True)\n",
    "\n",
    "FATO_MEMBROS_FC[\"ID\"] = FATO_MEMBROS_FC[\"ID\"].astype(str) \n",
    "FATO_MEMBROS_FC[\"Lodestone\"] = \"https://na.finalfantasyxiv.com/lodestone/character/\" + FATO_MEMBROS_FC[\"ID\"] \n",
    "\n"
   ]
  },
  {
   "cell_type": "markdown",
   "metadata": {},
   "source": [
    "5- [REGRAS] Dicionario pra classificação de TNKS, DPS e Healer\n",
    "\n",
    "Classe de craft descartadas como \"N/A\""
   ]
  },
  {
   "cell_type": "code",
   "execution_count": 4,
   "metadata": {},
   "outputs": [],
   "source": [
    "jobs_dict ={\n",
    "                \"alchemist / alchemist\":\"N/A\",            \n",
    "                \"arcanist / scholar\":\"HLR\",               \n",
    "                \"arcanist / summoner\":\"DPS\",              \n",
    "                \"archer / bard\":\"DPS\",   \n",
    "                \"armorer / armorer\":\"N/A\",\n",
    "                \"astrologian / astrologian\":\"HLR\",        \n",
    "                \"blacksmith / blacksmith\":\"N/A\",          \n",
    "                \"blue mage / blue mage\":\"DPS\",            \n",
    "                \"botanist / botanist\":\"N/A\",              \n",
    "                \"carpenter / carpenter\":\"N/A\",            \n",
    "                \"conjurer / white mage\":\"HLR\",            \n",
    "                \"culinarian / culinarian\":\"N/A\",          \n",
    "                \"dancer / dancer\":\"DPS\", \n",
    "                \"dark knight / dark knight\":\"TNK\",        \n",
    "                \"fisher / fisher\":\"N/A\", \n",
    "                \"gladiator / paladin\":\"TNK\",              \n",
    "                \"goldsmith / goldsmith\":\"N/A\",            \n",
    "                \"gunbreaker / gunbreaker\":\"TNK\",          \n",
    "                \"lancer / dragoon\":\"DPS\",\n",
    "                \"leatherworker / leatherworker\":\"N/A\",    \n",
    "                \"machinist / machinist\":\"DPS\",            \n",
    "                \"marauder / warrior\":\"TNK\",               \n",
    "                \"miner / miner\":\"N/A\",   \n",
    "                \"pugilist / monk\":\"DPS\",\n",
    "                \"reaper / reaper\":\"DPS\", \n",
    "                \"red mage / red mage\":\"DPS\",              \n",
    "                \"rogue / ninja\":\"DPS\",   \n",
    "                \"sage / sage\":\"HLR\",     \n",
    "                \"samurai / samurai\":\"DPS\",\n",
    "                \"thaumaturge / black mage\":\"DPS\",       \n",
    "                \"weaver / weaver\":\"HLR\"      \n",
    "    \n",
    "    \n",
    "            }"
   ]
  },
  {
   "cell_type": "markdown",
   "metadata": {},
   "source": [
    "3- [BRUTA] Tabela Jobs"
   ]
  },
  {
   "cell_type": "code",
   "execution_count": 5,
   "metadata": {},
   "outputs": [],
   "source": [
    "RAW_ClassJobs = pd.DataFrame([])\n",
    "x=0\n",
    "for x in range(0, FATO_MEMBROS_FC[\"ID\"].count()):\n",
    "    sup= pd.DataFrame(personagens(FATO_MEMBROS_FC[\"ID\"][x])[\"Character\"][\"ClassJobs\"])\n",
    "    sup.drop(list(sup.filter(regex = \"Exp\")), axis = 1, inplace = True)\n",
    "    sup.drop([\"ClassID\",\"IsSpecialised\",\"JobID\",\"UnlockedState\"], axis =1, inplace = True)\n",
    "    sup[\"Lodestone\"] = \"https://na.finalfantasyxiv.com/lodestone/character/\" + FATO_MEMBROS_FC[\"ID\"][x]\n",
    "    RAW_ClassJobs = pd.concat([RAW_ClassJobs,sup])\n",
    "\n",
    "RAW_ClassJobs.reset_index(drop = True, inplace = True)"
   ]
  },
  {
   "cell_type": "markdown",
   "metadata": {},
   "source": [
    "2- [ANALITICA] Tabela Jobs"
   ]
  },
  {
   "cell_type": "code",
   "execution_count": 6,
   "metadata": {},
   "outputs": [],
   "source": [
    "ANALYTICS_90ClassJobs = RAW_ClassJobs\n",
    "\n",
    "ANALYTICS_90ClassJobs = ANALYTICS_90ClassJobs.replace({\"Name\":jobs_dict})\n",
    "ANALYTICS_90ClassJobs[\"Name\"].replace(regex=\"N/A\",value=float(\"NaN\"), inplace= True)\n",
    "ANALYTICS_90ClassJobs.dropna(subset=\"Name\",inplace= True)\n",
    "\n",
    "ANALYTICS_90ClassJobs = ANALYTICS_90ClassJobs.query('Level == 90')\n",
    "\n",
    "sup = list(ANALYTICS_90ClassJobs.columns)\n",
    "sup[sup.index(\"Name\")] = \"Role_Jobs\"\n",
    "ANALYTICS_90ClassJobs.columns = sup\n",
    "\n",
    "ANALYTICS_90ClassJobs[\"Qtd_Jobs\"] = ANALYTICS_90ClassJobs[\"Role_Jobs\"]\n",
    "ANALYTICS_90ClassJobs = ANALYTICS_90ClassJobs.groupby([\"Lodestone\",\"Role_Jobs\"])[\"Qtd_Jobs\"].count().reset_index()"
   ]
  },
  {
   "cell_type": "markdown",
   "metadata": {},
   "source": [
    "3- [BRUTA] Tabela Discord"
   ]
  },
  {
   "cell_type": "code",
   "execution_count": 7,
   "metadata": {},
   "outputs": [],
   "source": [
    "RAW_discord=pd.DataFrame(discord())\n",
    "\n",
    "x = RAW_discord[\"id\"].min() \n",
    "\n",
    "while x != \"766849288331722803\":\n",
    "    sup = pd.DataFrame(discord_50_m(x))  \n",
    "    x = sup[\"id\"].min()\n",
    "    RAW_discord = pd.concat([RAW_discord,sup])\n",
    "\n",
    "RAW_discord.drop([\"type\",\"channel_id\",\"author\",\"attachments\",\"embeds\",\"mentions\",\"mention_roles\",\"pinned\",\"mention_everyone\",\"tts\",\"edited_timestamp\",\"flags\",\"components\"], axis =1 , inplace= True)    \n",
    "RAW_discord[\"timestamp\"] = RAW_discord[\"timestamp\"].astype(str).str[:10]\n",
    "sup = list(RAW_discord.columns)\n",
    "sup[sup.index(\"content\")] = \"mensagem\"\n",
    "sup[sup.index(\"timestamp\")] = \"data\"\n",
    "RAW_discord.columns = sup\n",
    "RAW_discord.reset_index(drop = True, inplace= True)"
   ]
  },
  {
   "cell_type": "markdown",
   "metadata": {},
   "source": [
    "2- [ANALITICA] TABELA DISCORD_DIAS_FC"
   ]
  },
  {
   "cell_type": "code",
   "execution_count": 8,
   "metadata": {},
   "outputs": [],
   "source": [
    "ANALYTICS_discord_part1 = RAW_discord.loc[RAW_discord[\"mensagem\"].str.contains('. Id:', regex=False)]\n",
    "ANALYTICS_discord_part1 = ANALYTICS_discord_part1.join(ANALYTICS_discord_part1[\"mensagem\"].str.split(\"(\", expand = True))\n",
    "\n",
    "sup = list(ANALYTICS_discord_part1.columns)\n",
    "sup[sup.index(0)] = \"mensagem_1\"\n",
    "sup[sup.index(1)] = \"mensagem_2\"\n",
    "ANALYTICS_discord_part1.columns = sup\n",
    "ANALYTICS_discord_part1.drop(\"mensagem\", axis =1 , inplace = True)\n",
    "\n",
    "ANALYTICS_discord_part1 = ANALYTICS_discord_part1.join(ANALYTICS_discord_part1[\"mensagem_2\"].str.split(\")\", expand = True))\n",
    "\n",
    "sup = list(ANALYTICS_discord_part1.columns)\n",
    "sup[sup.index(0)] = \"mensagem_3\"\n",
    "sup[sup.index(1)] = \"mensagem_4\"\n",
    "ANALYTICS_discord_part1.columns = sup\n",
    "ANALYTICS_discord_part1.drop([\"mensagem_2\",\"mensagem_3\"], axis =1 , inplace = True)\n",
    "\n",
    "ANALYTICS_discord_part1 = ANALYTICS_discord_part1.join(ANALYTICS_discord_part1[\"mensagem_1\"].str.rsplit(\" \", n=1, expand = True))\n",
    "\n",
    "sup = list(ANALYTICS_discord_part1.columns)\n",
    "sup[sup.index(0)] = \"Name\"\n",
    "sup[sup.index(1)] = \"mensagem_6\"\n",
    "ANALYTICS_discord_part1.columns = sup\n",
    "ANALYTICS_discord_part1.drop([\"mensagem_1\",\"mensagem_6\"], axis =1 , inplace = True)\n",
    "\n",
    "ANALYTICS_discord_part1 = ANALYTICS_discord_part1.join(ANALYTICS_discord_part1[\"mensagem_4\"].str.rsplit(\" \", n=1, expand = True))\n",
    "sup = list(ANALYTICS_discord_part1.columns)\n",
    "sup[sup.index(0)] = \"Status_entrada_saida\"\n",
    "sup[sup.index(1)] = \"id_lodstone\"\n",
    "ANALYTICS_discord_part1.columns = sup\n",
    "ANALYTICS_discord_part1.drop(\"mensagem_4\", axis =1 , inplace = True)\n",
    "ANALYTICS_discord_part1[\"Status_entrada_saida\"].replace(regex = \"da fc.\", value = \"\", inplace = True)\n",
    "ANALYTICS_discord_part1[\"Status_entrada_saida\"].replace(regex = \"na fc.\", value = \"\", inplace = True)\n",
    "ANALYTICS_discord_part1[\"Status_entrada_saida\"].replace(regex = \" \", value = \"\", inplace = True)\n",
    "ANALYTICS_discord_part1[\"Status_entrada_saida\"].replace(regex = \"Id:\", value = \"\", inplace = True)\n",
    "\n"
   ]
  },
  {
   "cell_type": "code",
   "execution_count": 10,
   "metadata": {},
   "outputs": [],
   "source": [
    "\n",
    "ANALYTICS_discord_part2 = RAW_discord.loc[RAW_discord[\"mensagem\"].str.contains('. Id:', regex=False)==False]\n",
    "ANALYTICS_discord_part2 = ANALYTICS_discord_part2.join(ANALYTICS_discord_part2[\"mensagem\"].str.split(\"(\", expand = True))\n",
    "\n",
    "sup = list(ANALYTICS_discord_part2.columns)\n",
    "sup[sup.index(0)] = \"mensagem_1\"\n",
    "sup[sup.index(1)] = \"mensagem_2\"\n",
    "ANALYTICS_discord_part2.columns = sup\n",
    "ANALYTICS_discord_part2.drop(\"mensagem\", axis =1 , inplace = True)\n",
    "\n",
    "ANALYTICS_discord_part2 = ANALYTICS_discord_part2.join(ANALYTICS_discord_part2[\"mensagem_2\"].str.split(\")\", expand = True))\n",
    "\n",
    "sup = list(ANALYTICS_discord_part2.columns)\n",
    "sup[sup.index(0)] = \"mensagem_3\"\n",
    "sup[sup.index(1)] = \"Status_entrada_saida\"\n",
    "ANALYTICS_discord_part2.columns = sup\n",
    "ANALYTICS_discord_part2.drop([\"mensagem_2\",\"mensagem_3\"], axis =1 , inplace = True)\n",
    "\n",
    "ANALYTICS_discord_part2 = ANALYTICS_discord_part2.join(ANALYTICS_discord_part2[\"mensagem_1\"].str.rsplit(\" \", n=1, expand = True))\n",
    "\n",
    "sup = list(ANALYTICS_discord_part2.columns)\n",
    "sup[sup.index(0)] = \"Name\"\n",
    "sup[sup.index(1)] = \"mensagem_6\"\n",
    "ANALYTICS_discord_part2.columns = sup\n",
    "ANALYTICS_discord_part2.drop([\"mensagem_1\",\"mensagem_6\"], axis =1 , inplace = True)\n",
    "\n",
    "\n",
    "ANALYTICS_discord_part2[\"Status_entrada_saida\"].replace(regex = \"da fc.\", value = \"\", inplace = True)\n",
    "ANALYTICS_discord_part2[\"Status_entrada_saida\"].replace(regex = \"na fc.\", value = \"\", inplace = True)\n",
    "ANALYTICS_discord_part2[\"Status_entrada_saida\"].replace(regex = \" \", value = \"\", inplace = True)\n",
    "ANALYTICS_discord_part2[\"id_lodstone\"]=\" \"\n"
   ]
  },
  {
   "cell_type": "code",
   "execution_count": 11,
   "metadata": {},
   "outputs": [],
   "source": [
    "ANALYTICS_discord = pd.concat([ANALYTICS_discord_part1,ANALYTICS_discord_part2])\n",
    "\n",
    "filtro_entrou = ANALYTICS_discord[\"Status_entrada_saida\"] == \"entrou\"\n",
    "filtro_saiu = ANALYTICS_discord[\"Status_entrada_saida\"] == \"saiu\""
   ]
  },
  {
   "cell_type": "code",
   "execution_count": 12,
   "metadata": {},
   "outputs": [],
   "source": [
    "ANALYTICS_discord_dias_fc_Ul_entrou = ANALYTICS_discord.loc[filtro_entrou == True].merge(FATO_MEMBROS_FC,how=\"inner\",on = \"Name\")\n",
    "ANALYTICS_discord_dias_fc_Ul_entrou[\"data\"] = pd.to_datetime(ANALYTICS_discord_dias_fc_Ul_entrou[\"data\"])\n",
    "ANALYTICS_discord_dias_fc_Ul_entrou = ANALYTICS_discord_dias_fc_Ul_entrou.groupby([\"id_lodstone\",\"Name\"])[\"data\"].max().reset_index()\n",
    "ANALYTICS_discord_dias_fc_Ul_entrou[\"data\"] = ANALYTICS_discord_dias_fc_Ul_entrou['data'].astype(str).str[:10]\n",
    "x=0\n",
    "sup = pd.Series([], dtype=\"object\")\n",
    "for x in range(x, ANALYTICS_discord_dias_fc_Ul_entrou[\"data\"].count()):\n",
    "    sup[x] = (date.datetime.today() - date.datetime.strptime(ANALYTICS_discord_dias_fc_Ul_entrou[\"data\"][x],'%Y-%m-%d'))\n",
    "ANALYTICS_discord_dias_fc_Ul_entrou[\"Qtd_dias\"] = sup.dt.components.days\n",
    "\n",
    "ANALYTICS_discord_dias_fc_Ul_entrou[\"Qtd_dias\"] = ANALYTICS_discord_dias_fc_Ul_entrou[\"Qtd_dias\"].astype(float)\n",
    "\n"
   ]
  },
  {
   "cell_type": "markdown",
   "metadata": {},
   "source": [
    "2- [ANALITICA] CARGOS FC"
   ]
  },
  {
   "cell_type": "code",
   "execution_count": 13,
   "metadata": {},
   "outputs": [
    {
     "name": "stderr",
     "output_type": "stream",
     "text": [
      "C:\\Users\\35383\\AppData\\Local\\Temp\\ipykernel_25796\\170596366.py:7: SettingWithCopyWarning: \n",
      "A value is trying to be set on a copy of a slice from a DataFrame\n",
      "\n",
      "See the caveats in the documentation: https://pandas.pydata.org/pandas-docs/stable/user_guide/indexing.html#returning-a-view-versus-a-copy\n",
      "  ANALYTICS_Cargos[\"Qtd_dias\"][x] = ANALYTICS_Cargos[\"Qtd_dias_x\"][x]\n",
      "C:\\Users\\35383\\AppData\\Local\\Temp\\ipykernel_25796\\170596366.py:9: SettingWithCopyWarning: \n",
      "A value is trying to be set on a copy of a slice from a DataFrame\n",
      "\n",
      "See the caveats in the documentation: https://pandas.pydata.org/pandas-docs/stable/user_guide/indexing.html#returning-a-view-versus-a-copy\n",
      "  ANALYTICS_Cargos[\"Qtd_dias\"][x] = ANALYTICS_Cargos[\"Qtd_dias_y\"][x]\n"
     ]
    }
   ],
   "source": [
    "ANALYTICS_Cargos = FATO_MEMBROS_FC.merge(ANALYTICS_discord_dias_fc_Ul_entrou, how=\"left\", on= \"Name\")\n",
    "ANALYTICS_Cargos = pd.merge(ANALYTICS_Cargos,ANALYTICS_discord_dias_fc_Ul_entrou, how=\"left\", left_on= [\"ID\"], right_on= [\"id_lodstone\"])\n",
    "ANALYTICS_Cargos = ANALYTICS_Cargos.merge(ANALYTICS_90ClassJobs, how=\"left\", on= \"Lodestone\")\n",
    "ANALYTICS_Cargos[\"Qtd_dias\"] = float(\"NaN\")\n",
    "for x in range(0,ANALYTICS_Cargos[\"ID\"].count()):\n",
    "    if math.isnan(ANALYTICS_Cargos[\"Qtd_dias_y\"][x]):\n",
    "        ANALYTICS_Cargos[\"Qtd_dias\"][x] = ANALYTICS_Cargos[\"Qtd_dias_x\"][x]\n",
    "    else:\n",
    "        ANALYTICS_Cargos[\"Qtd_dias\"][x] = ANALYTICS_Cargos[\"Qtd_dias_y\"][x]\n",
    "\n",
    "ANALYTICS_Cargos = ANALYTICS_Cargos.groupby([\"ID\",\"Avatar\",\"Name_x\",\"Rank\"]).agg({\"Qtd_dias\":\"mean\", \"Role_Jobs\":\"count\",\"Qtd_Jobs\":\"sum\"}).reset_index()\n",
    "\n",
    "sup = list(ANALYTICS_Cargos.columns)\n",
    "sup[sup.index(\"Name_x\")] = \"Name\"\n",
    "ANALYTICS_Cargos.columns = sup\n",
    "\n"
   ]
  },
  {
   "cell_type": "markdown",
   "metadata": {},
   "source": [
    "6- [PARTICULARIDADE] Tratamento para pessoas que mudaram de Nick"
   ]
  },
  {
   "cell_type": "code",
   "execution_count": 14,
   "metadata": {},
   "outputs": [
    {
     "name": "stderr",
     "output_type": "stream",
     "text": [
      "C:\\Users\\35383\\AppData\\Local\\Temp\\ipykernel_25796\\2516148593.py:6: SettingWithCopyWarning: \n",
      "A value is trying to be set on a copy of a slice from a DataFrame\n",
      "\n",
      "See the caveats in the documentation: https://pandas.pydata.org/pandas-docs/stable/user_guide/indexing.html#returning-a-view-versus-a-copy\n",
      "  ANALYTICS_Cargos[\"Qtd_dias\"][x] = 0\n"
     ]
    }
   ],
   "source": [
    "ANALYTICS_Cargos[\"Qtd_dias\"] = ANALYTICS_Cargos[\"Qtd_dias\"].astype(float)\n",
    "\n",
    "x=0\n",
    "for x in range(0,ANALYTICS_Cargos[\"ID\"].count()):\n",
    "    if math.isnan(ANALYTICS_Cargos[\"Qtd_dias\"][x]):\n",
    "        ANALYTICS_Cargos[\"Qtd_dias\"][x] = 0\n",
    "\n",
    "\n"
   ]
  },
  {
   "cell_type": "markdown",
   "metadata": {},
   "source": [
    "5- [REGRAS] CARGO DA FC"
   ]
  },
  {
   "cell_type": "code",
   "execution_count": 15,
   "metadata": {},
   "outputs": [],
   "source": [
    "filtro_cargos_sapling = ANALYTICS_Cargos[\"Qtd_dias\"]<90\n",
    "filtro_cargos_senior_tree = np.logical_and(np.logical_and(ANALYTICS_Cargos[\"Qtd_dias\"]>=90, ANALYTICS_Cargos[\"Qtd_dias\"]<180), ANALYTICS_Cargos[\"Role_Jobs\"]>0 )\n",
    "filtro_cargos_lunar_tree = np.logical_and(ANALYTICS_Cargos[\"Qtd_dias\"]>=180, ANALYTICS_Cargos[\"Role_Jobs\"]==3)"
   ]
  },
  {
   "cell_type": "markdown",
   "metadata": {},
   "source": [
    "1- [PRODUCAO] TABELA DE CARGOS A SEREM ATUALIZADOS"
   ]
  },
  {
   "cell_type": "code",
   "execution_count": 16,
   "metadata": {},
   "outputs": [
    {
     "name": "stderr",
     "output_type": "stream",
     "text": [
      "C:\\Users\\35383\\AppData\\Local\\Temp\\ipykernel_25796\\2642456434.py:4: SettingWithCopyWarning: \n",
      "A value is trying to be set on a copy of a slice from a DataFrame\n",
      "\n",
      "See the caveats in the documentation: https://pandas.pydata.org/pandas-docs/stable/user_guide/indexing.html#returning-a-view-versus-a-copy\n",
      "  PROD_Cargos[\"Rank_recomendado\"].loc[filtro_cargos_sapling ==True] = \"Sapling\"\n"
     ]
    }
   ],
   "source": [
    "PROD_Cargos = ANALYTICS_Cargos\n",
    "PROD_Cargos[\"Rank_recomendado\"] = float(\"Nan\")\n",
    "\n",
    "PROD_Cargos[\"Rank_recomendado\"].loc[filtro_cargos_sapling ==True] = \"Sapling\"\n",
    "PROD_Cargos[\"Rank_recomendado\"].loc[filtro_cargos_senior_tree ==True] = \"Senior Tree\"\n",
    "PROD_Cargos[\"Rank_recomendado\"].loc[filtro_cargos_lunar_tree ==True] = \"Lunar Tree\"\n",
    "PROD_Cargos = PROD_Cargos.loc[PROD_Cargos[\"Rank\"] != PROD_Cargos[\"Rank_recomendado\"]]\n",
    "PROD_Cargos = PROD_Cargos.loc[PROD_Cargos[\"Qtd_dias\"]>0]\n",
    "\n",
    "\n",
    "PROD_Cargos[\"Rank\"].replace(\"1st Div - Mod\",float(\"NaN\"),inplace=True)\n",
    "PROD_Cargos[\"Rank\"].replace(\"2nd Div - Tech\",float(\"NaN\"),inplace=True)\n",
    "PROD_Cargos[\"Rank\"].replace(\"3rd Div - Estr\",float(\"NaN\"),inplace=True)\n",
    "PROD_Cargos[\"Rank\"].replace(\"Counsel Master\",float(\"NaN\"),inplace=True)\n",
    "PROD_Cargos[\"Rank\"].replace(\"Lunar Tree\",float(\"NaN\"),inplace=True)\n",
    "PROD_Cargos = PROD_Cargos.dropna(subset=[\"Rank_recomendado\",\"Rank\"])\n",
    "sup = list(PROD_Cargos.columns)\n",
    "sup[sup.index(\"Role_Jobs\")] = \"Qtds_role_jobs_lvl_90\"\n",
    "PROD_Cargos.columns = sup\n",
    "\n",
    "PROD_Cargos = PROD_Cargos.groupby([\"ID\",\"Avatar\",\"Name\",\"Rank\",\"Rank_recomendado\"]).agg({\"Qtd_dias\":\"mean\",\"Qtds_role_jobs_lvl_90\":\"mean\",\"Qtd_Jobs\":\"mean\"}).reset_index()\n",
    "\n",
    "\n",
    "PROD_Cargos.set_index(\"ID\", inplace=True)\n",
    "\n",
    "PROD_Cargos.to_csv(\"ffxiv_cargos_fc.csv\")"
   ]
  }
 ],
 "metadata": {
  "kernelspec": {
   "display_name": "Python 3.9.13 64-bit",
   "language": "python",
   "name": "python3"
  },
  "language_info": {
   "codemirror_mode": {
    "name": "ipython",
    "version": 3
   },
   "file_extension": ".py",
   "mimetype": "text/x-python",
   "name": "python",
   "nbconvert_exporter": "python",
   "pygments_lexer": "ipython3",
   "version": "3.9.13"
  },
  "orig_nbformat": 4,
  "vscode": {
   "interpreter": {
    "hash": "43888f077bd4690fd13740e4fb3e715bb64facb976d1648c14231d891c61574a"
   }
  }
 },
 "nbformat": 4,
 "nbformat_minor": 2
}
