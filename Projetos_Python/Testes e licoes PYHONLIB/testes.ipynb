{
 "cells": [
  {
   "cell_type": "code",
   "execution_count": 34,
   "metadata": {},
   "outputs": [],
   "source": [
    "import findspark\n",
    "findspark.init()"
   ]
  },
  {
   "cell_type": "code",
   "execution_count": 35,
   "metadata": {},
   "outputs": [],
   "source": [
    "from pyspark.sql import SparkSession\n",
    "\n",
    "\n",
    "spark = SparkSession.builder.getOrCreate()\n"
   ]
  },
  {
   "cell_type": "code",
   "execution_count": 36,
   "metadata": {},
   "outputs": [],
   "source": [
    "df = spark.read.csv(\"C:\\\\Users\\\\Keyrus\\\\Documents\\\\GitHub\\\\Python-eng-projects\\\\Projetos_Python\\\\Analises_tratamento_bases\\\\datafolder\\\\crunchyroll_data\\\\ANIMES_2TEMP_SCORE.csv\",header = True)\n"
   ]
  },
  {
   "cell_type": "code",
   "execution_count": 37,
   "metadata": {},
   "outputs": [
    {
     "name": "stdout",
     "output_type": "stream",
     "text": [
      "root\n",
      " |-- ID: string (nullable = true)\n",
      " |-- Titulo: string (nullable = true)\n",
      " |-- Descricao: string (nullable = true)\n",
      " |-- Tipo: string (nullable = true)\n",
      " |-- Generos: string (nullable = true)\n",
      " |-- Temporadas: string (nullable = true)\n",
      " |-- Ano_Lancamento: string (nullable = true)\n",
      " |-- Duracao_min: string (nullable = true)\n",
      " |-- Pais_produzido: string (nullable = true)\n",
      " |-- Score_IMDB: string (nullable = true)\n",
      " |-- Votos_IMDB: string (nullable = true)\n",
      " |-- Popularidade_TMDB: string (nullable = true)\n",
      " |-- TMDB_Score: string (nullable = true)\n",
      " |-- Nome: string (nullable = true)\n",
      " |-- Personagem: string (nullable = true)\n",
      " |-- Funcao: string (nullable = true)\n",
      "\n"
     ]
    }
   ],
   "source": [
    "df.printSchema()"
   ]
  },
  {
   "cell_type": "code",
   "execution_count": 38,
   "metadata": {},
   "outputs": [
    {
     "name": "stdout",
     "output_type": "stream",
     "text": [
      "+-------+---------------+--------------------+----+-------+----------+--------------+-----------+--------------+----------+----------+-----------------+----------+----------+-------------------+------+\n",
      "|     ID|         Titulo|           Descricao|Tipo|Generos|Temporadas|Ano_Lancamento|Duracao_min|Pais_produzido|Score_IMDB|Votos_IMDB|Popularidade_TMDB|TMDB_Score|      Nome|         Personagem|Funcao|\n",
      "+-------+---------------+--------------------+----+-------+----------+--------------+-----------+--------------+----------+----------+-----------------+----------+----------+-------------------+------+\n",
      "|ts32835|Hunter x Hunter|Twelve-year-old G...|SHOW|  drama|       3.0|          2011|         23|            JP|       9.0|   87857.0|          117.924|       8.8|Megumi Han|Gon Freecss (voice)| ACTOR|\n",
      "+-------+---------------+--------------------+----+-------+----------+--------------+-----------+--------------+----------+----------+-----------------+----------+----------+-------------------+------+\n",
      "only showing top 1 row\n",
      "\n"
     ]
    }
   ],
   "source": [
    "df.show(1)"
   ]
  },
  {
   "cell_type": "code",
   "execution_count": 39,
   "metadata": {},
   "outputs": [
    {
     "name": "stdout",
     "output_type": "stream",
     "text": [
      "+-------+-------+---------------+-------------------+----+\n",
      "|summary|     ID|         Titulo|         Temporadas|Tipo|\n",
      "+-------+-------+---------------+-------------------+----+\n",
      "|  count|    126|            126|                126| 126|\n",
      "|   mean|   null|           null| 3.4285714285714284|null|\n",
      "| stddev|   null|           null|0.49684720272649496|null|\n",
      "|    min|ts20682|Attack on Titan|                3.0|SHOW|\n",
      "|    max|ts32835|Hunter x Hunter|                4.0|SHOW|\n",
      "+-------+-------+---------------+-------------------+----+\n",
      "\n"
     ]
    }
   ],
   "source": [
    "df.select(\"ID\",\"Titulo\",\"Temporadas\",\"Tipo\").describe().show()"
   ]
  }
 ],
 "metadata": {
  "kernelspec": {
   "display_name": "Python 3.10.7 64-bit",
   "language": "python",
   "name": "python3"
  },
  "language_info": {
   "codemirror_mode": {
    "name": "ipython",
    "version": 3
   },
   "file_extension": ".py",
   "mimetype": "text/x-python",
   "name": "python",
   "nbconvert_exporter": "python",
   "pygments_lexer": "ipython3",
   "version": "3.10.7"
  },
  "orig_nbformat": 4,
  "vscode": {
   "interpreter": {
    "hash": "bb2ba277de041729ec6d8e6935e21ac5d8f6e696b3f422080882f75ddfae449f"
   }
  }
 },
 "nbformat": 4,
 "nbformat_minor": 2
}
