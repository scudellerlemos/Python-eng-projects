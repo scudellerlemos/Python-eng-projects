{
 "cells": [
  {
   "cell_type": "code",
   "execution_count": 1,
   "metadata": {},
   "outputs": [],
   "source": [
    "import pandas as pd\n",
    "import requests as req\n",
    "import boto3\n",
    "from io import StringIO\n",
    "from io import BytesIO"
   ]
  },
  {
   "cell_type": "code",
   "execution_count": 2,
   "metadata": {},
   "outputs": [],
   "source": [
    "def dados_FC():\n",
    "    response = req.get(\"https://xivapi.com/freecompany/9234349560946614930?data=FCM\")\n",
    "    return response.json()"
   ]
  },
  {
   "cell_type": "code",
   "execution_count": 3,
   "metadata": {},
   "outputs": [],
   "source": [
    "MEMBROS_FC = pd.DataFrame(dados_FC()[\"FreeCompanyMembers\"])\n",
    "MEMBROS_FC.drop([\"Lang\",\"RankIcon\",\"FeastMatches\",\"Server\"],axis = 1, inplace = True)\n",
    "\n",
    "MEMBROS_FC[\"ID\"] = MEMBROS_FC[\"ID\"].astype(str) \n",
    "MEMBROS_FC[\"Lodestone\"] = \"https://na.finalfantasyxiv.com/lodestone/character/\" + MEMBROS_FC[\"ID\"] \n",
    "MEMBROS_FC[\"ID\"] = MEMBROS_FC[\"ID\"].astype(float) \n"
   ]
  },
  {
   "cell_type": "code",
   "execution_count": 11,
   "metadata": {},
   "outputs": [],
   "source": [
    "##Fazer upload do arquivo na S3 AWS\n",
    "def upload_s3(file,paste,bucket,df):\n",
    "    s3_file_key = str(paste)+\"/\"+str(file)\n",
    "    s3 = boto3.client(\"s3\",aws_access_key_id=\"%%%%%%%%\", aws_secret_access_key=\"%%%%%%%%%%%%%\")\n",
    "    csv_buf = StringIO()\n",
    "    df.to_csv(csv_buf, header=True, index = False)\n",
    "    csv_buf.seek(0)\n",
    "    s3.put_object(Bucket=bucket,Body=csv_buf.getvalue(),Key=s3_file_key)"
   ]
  },
  {
   "cell_type": "code",
   "execution_count": 8,
   "metadata": {},
   "outputs": [],
   "source": [
    "##Ler  arquivo na S3 AWS\n",
    "def read_csv_s3(file,paste,bucket):\n",
    "    s3_file_key = str(paste)+\"/\"+str(file)\n",
    "    bucket = bucket\n",
    "    s3 = boto3.client(\"s3\",aws_access_key_id=\"%%%%%%%%\", aws_secret_access_key==\"%%%%%%%%%%%%%\"))\n",
    "    obj = s3.get_object(Bucket=bucket, Key=s3_file_key)\n",
    "    initial_df = pd.read_csv(BytesIO(obj['Body'].read()))\n",
    "    return initial_df"
   ]
  },
  {
   "cell_type": "code",
   "execution_count": 12,
   "metadata": {},
   "outputs": [],
   "source": [
    "upload_s3(\"aquivo.csv\",\"client\",\"aws-ffbucket\",MEMBROS_FC)"
   ]
  },
  {
   "cell_type": "code",
   "execution_count": 10,
   "metadata": {},
   "outputs": [],
   "source": [
    "df =  read_csv_s3(\"membros_fc.csv\",\"client\",\"aws-ffbucket\")"
   ]
  }
 ],
 "metadata": {
  "kernelspec": {
   "display_name": "Python 3.10.7 64-bit",
   "language": "python",
   "name": "python3"
  },
  "language_info": {
   "codemirror_mode": {
    "name": "ipython",
    "version": 3
   },
   "file_extension": ".py",
   "mimetype": "text/x-python",
   "name": "python",
   "nbconvert_exporter": "python",
   "pygments_lexer": "ipython3",
   "version": "3.10.7"
  },
  "orig_nbformat": 4,
  "vscode": {
   "interpreter": {
    "hash": "bb2ba277de041729ec6d8e6935e21ac5d8f6e696b3f422080882f75ddfae449f"
   }
  }
 },
 "nbformat": 4,
 "nbformat_minor": 2
}
