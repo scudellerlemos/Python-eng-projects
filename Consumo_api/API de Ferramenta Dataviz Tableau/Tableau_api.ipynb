{
 "cells": [
  {
   "cell_type": "code",
   "execution_count": 16,
   "metadata": {},
   "outputs": [],
   "source": [
    "from tableau_api_lib import TableauServerConnection\n",
    "from tableau_api_lib.utils import querying, flatten_dict_column\n",
    "from dotenv import load_dotenv\n",
    "import os\n",
    "load_dotenv()\n",
    "\n",
    "USUARIO = os.environ[\"USUARIO\"]\n",
    "SENHA = os.environ[\"SENHA\"]\n",
    "SITE_NAME = os.environ[\"SITE_NAME\"]"
   ]
  },
  {
   "cell_type": "code",
   "execution_count": 17,
   "metadata": {},
   "outputs": [
    {
     "data": {
      "text/plain": [
       "<Response [200]>"
      ]
     },
     "execution_count": 17,
     "metadata": {},
     "output_type": "execute_result"
    }
   ],
   "source": [
    "config = {\n",
    "    \"Tableau-hml\": {\n",
    "        'server': SITE_NAME,\n",
    "        'api_version': '3.15',\n",
    "        'username': USUARIO,\n",
    "        'password': SENHA,\n",
    "        'site_name': SITE_NAME,\n",
    "        'site_url': ''\n",
    "    }\n",
    "}\n",
    "conn = TableauServerConnection(config, env= \"Tableau-hml\")\n",
    "\n",
    "conn.sign_in()"
   ]
  },
  {
   "cell_type": "code",
   "execution_count": 18,
   "metadata": {},
   "outputs": [],
   "source": [
    "views_df = querying.get_views_dataframe(conn=conn)"
   ]
  },
  {
   "cell_type": "code",
   "execution_count": 19,
   "metadata": {},
   "outputs": [],
   "source": [
    "dashboard_df=views_df[views_df[\"sheetType\"] == \"dashboard\"].copy()\n"
   ]
  },
  {
   "cell_type": "code",
   "execution_count": 20,
   "metadata": {},
   "outputs": [],
   "source": [
    "dashboard_df = flatten_dict_column(dashboard_df,keys=[\"id\"],col_name=\"project\")\n",
    "dashboard_df = flatten_dict_column(dashboard_df,keys=[\"id\"],col_name=\"location\")\n",
    "dashboard_df = flatten_dict_column(dashboard_df,keys=[\"tags\",\"id\"],col_name=\"workbook\")\n",
    "dashboard_df = flatten_dict_column(dashboard_df,keys=[\"id\"],col_name=\"owner\")"
   ]
  },
  {
   "cell_type": "code",
   "execution_count": 21,
   "metadata": {},
   "outputs": [],
   "source": [
    "dashboard_df.drop(columns=[\"tags\",\"workbook_tags\"],axis=0,inplace=True)"
   ]
  },
  {
   "cell_type": "code",
   "execution_count": 24,
   "metadata": {},
   "outputs": [],
   "source": [
    "projects_df = querying.get_projects_dataframe(conn=conn)"
   ]
  },
  {
   "cell_type": "code",
   "execution_count": 25,
   "metadata": {},
   "outputs": [],
   "source": [
    "projects_df = flatten_dict_column(projects_df,keys=[\"id\"],col_name=\"owner\")"
   ]
  },
  {
   "cell_type": "code",
   "execution_count": 26,
   "metadata": {},
   "outputs": [],
   "source": [
    "sup = list(projects_df.columns)\n",
    "sup[sup.index(\"id\")] = \"project_id\"\n",
    "sup[sup.index(\"description\")] = \"project_description\"\n",
    "sup[sup.index(\"name\")] = \"project_name\"\n",
    "projects_df.columns = sup"
   ]
  },
  {
   "cell_type": "code",
   "execution_count": 27,
   "metadata": {},
   "outputs": [],
   "source": [
    "datasources_df = querying.get_datasources_dataframe(conn=conn)"
   ]
  },
  {
   "cell_type": "code",
   "execution_count": 28,
   "metadata": {},
   "outputs": [],
   "source": [
    "datasources_df = flatten_dict_column(datasources_df,keys=[\"id\"],col_name=\"project\")\n",
    "datasources_df = flatten_dict_column(datasources_df,keys=[\"id\"],col_name=\"owner\")"
   ]
  },
  {
   "cell_type": "code",
   "execution_count": 29,
   "metadata": {},
   "outputs": [],
   "source": [
    "datasources_df.drop(columns=[\"tags\"],axis=0,inplace=True)"
   ]
  },
  {
   "cell_type": "code",
   "execution_count": 30,
   "metadata": {},
   "outputs": [
    {
     "data": {
      "text/plain": [
       "<Response [204]>"
      ]
     },
     "execution_count": 30,
     "metadata": {},
     "output_type": "execute_result"
    }
   ],
   "source": [
    "conn.sign_out()"
   ]
  }
 ],
 "metadata": {
  "kernelspec": {
   "display_name": "Python 3",
   "language": "python",
   "name": "python3"
  },
  "language_info": {
   "codemirror_mode": {
    "name": "ipython",
    "version": 3
   },
   "file_extension": ".py",
   "mimetype": "text/x-python",
   "name": "python",
   "nbconvert_exporter": "python",
   "pygments_lexer": "ipython3",
   "version": "3.10.9"
  },
  "orig_nbformat": 4,
  "vscode": {
   "interpreter": {
    "hash": "1a0efc7ed7210c8daa9aadd584bbae766f571d407ba1506112b0e572af6a4d67"
   }
  }
 },
 "nbformat": 4,
 "nbformat_minor": 2
}
