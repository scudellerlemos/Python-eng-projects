#importando libs e setando caminho de saída
import pandas as pd
filepath_csv="datafolder/netflix_data/NETFLIX_TABLE.csv"



#leitura do arquivo
df_netflix_titles = pd.read_csv("datafolder/netflix_data/titles.csv")

#dropando colunas que não serão utilizadas
df_netflix_titles.drop(["imdb_id","age_certification","seasons","imdb_votes","imdb_score","description"],axis=1,inplace=True)
df_netflix_titles.head()

df_netflix_tratada=df_netflix_titles


#inicio de tramento de dados (colunas production_countries e genres)

#guardando espaço na string "NaN", dado que existe campo vazio em paises e generos ou simbolizado pela string "[]"
df_netflix_titles["production_countries"].replace("[]","NaN",inplace=True)
df_netflix_titles["genres"].replace("[]","NaN",inplace=True)

#splitando a coluna procution countries
df_netflix_tratada["production_countries"]=df_netflix_tratada["production_countries"].str.split("[")
df_netflix_tratada=df_netflix_tratada.explode("production_countries")

df_netflix_tratada["production_countries"]=df_netflix_tratada["production_countries"].str.split("]")
df_netflix_tratada=df_netflix_tratada.explode("production_countries")


#splitando a coluna procution countries
df_netflix_tratada["genres"]=df_netflix_tratada["genres"].str.split("[")
df_netflix_tratada=df_netflix_tratada.explode("genres")

df_netflix_tratada["genres"]=df_netflix_tratada["genres"].str.split("]")
df_netflix_tratada=df_netflix_tratada.explode("genres")


#transformando as espações vazios causados pelos "[ ]" splitados e transformando em vazios númericos
df_netflix_tratada.replace("",float("NaN"),inplace=True)
#regeitando as strings" ' ""
df_netflix_tratada.replace(regex="'",value="",inplace=True)

#substituindo string "," por "/"
df_netflix_tratada["genres"].replace(regex=", ",value="/",inplace=True)
df_netflix_tratada["production_countries"].replace(regex=", ",value="/",inplace=True)

#dropando colunas com linhas que possuam vazios números
df_netflix_tratada.dropna(subset=["genres","production_countries"],inplace=True)

df_netflix_tratada.head()


#filtrando a base tradada com  'release_year>2000 and runtime>=120 and tmdb_score>0'
df_netflix_filtered = df_netflix_tratada.query('release_year>2000 and runtime>=120 and tmdb_score>0')

#setando index do dataframe para ID
df_netflix_filtered.set_index("id",inplace=True)

#Inicio de ordenamento de colunas
cols=df_netflix_filtered.columns

cols=list(cols[4:5]) + list(cols[0:1]) + list(cols[5:6])+ list(cols[1:4])+list(cols[6:8])
df_netflix_final=df_netflix_filtered[cols]
print("Colunas ordenadas para "+ str(cols))


#escrevendo drataframe final no arquivo csv
df_netflix_final.to_csv(filepath_csv)
df_netflix_final.head()


