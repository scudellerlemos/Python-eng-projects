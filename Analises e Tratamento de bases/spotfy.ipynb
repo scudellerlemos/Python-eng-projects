{
 "cells": [
  {
   "cell_type": "code",
   "execution_count": 1,
   "metadata": {},
   "outputs": [],
   "source": [
    "import pandas as pd"
   ]
  },
  {
   "cell_type": "code",
   "execution_count": 2,
   "metadata": {},
   "outputs": [],
   "source": [
    "df_spot = pd.read_csv(\"datafolder/spotfy_2010_2019/songs_normalize.csv\")\n"
   ]
  },
  {
   "cell_type": "code",
   "execution_count": 3,
   "metadata": {},
   "outputs": [],
   "source": [
    "df_spot[\"popularity\"]= pd.to_numeric(df_spot[\"popularity\"])\n",
    "df_spot[\"danceability\"]= pd.to_numeric(df_spot[\"danceability\"])\n",
    "df_spot[\"energy\"]= pd.to_numeric(df_spot[\"energy\"])\n",
    "df_spot[\"key\"]= pd.to_numeric(df_spot[\"key\"])\n",
    "df_spot[\"loudness\"]= pd.to_numeric(df_spot[\"loudness\"])\n",
    "df_spot[\"mode\"]= pd.to_numeric(df_spot[\"mode\"])\n",
    "df_spot[\"speechiness\"]= pd.to_numeric(df_spot[\"speechiness\"])\n",
    "df_spot[\"acousticness\"]= pd.to_numeric(df_spot[\"acousticness\"])\n",
    "df_spot[\"instrumentalness\"]= pd.to_numeric(df_spot[\"instrumentalness\"])\n",
    "df_spot[\"liveness\"]= pd.to_numeric(df_spot[\"valence\"])\n",
    "df_spot[\"tempo\"]= pd.to_numeric(df_spot[\"tempo\"])\n",
    "df_spot[\"year\"]= pd.to_numeric(df_spot[\"year\"])\n",
    "df_spot[\"duration_ms\"]= pd.to_numeric(df_spot[\"duration_ms\"])\n"
   ]
  },
  {
   "cell_type": "code",
   "execution_count": 4,
   "metadata": {},
   "outputs": [
    {
     "name": "stderr",
     "output_type": "stream",
     "text": [
      "C:\\Users\\35383\\AppData\\Local\\Temp\\ipykernel_18640\\1412307812.py:4: SettingWithCopyWarning: \n",
      "A value is trying to be set on a copy of a slice from a DataFrame\n",
      "\n",
      "See the caveats in the documentation: https://pandas.pydata.org/pandas-docs/stable/user_guide/indexing.html#returning-a-view-versus-a-copy\n",
      "  df_spot_sorted.drop([\"explicit\",\"song\"] , axis=1 , inplace=True)\n"
     ]
    }
   ],
   "source": [
    "\n",
    "cols=df_spot.columns\n",
    "cols=list(cols[17:18])+ list(cols[3:4]) + list(cols[0:1]) + list(cols[1:3]) + list(cols[4:17])\n",
    "df_spot_sorted=df_spot[cols]\n",
    "df_spot_sorted.drop([\"explicit\",\"song\"] , axis=1 , inplace=True)\n"
   ]
  },
  {
   "cell_type": "code",
   "execution_count": 5,
   "metadata": {},
   "outputs": [],
   "source": [
    "df_spot_filtered=df_spot_sorted.query('tempo>120 and year >2000 and popularity>78 and danceability>0.5')\n",
    "df_spot_filtered.set_index(\"genre\",inplace=True)\n",
    "df_spot_filtered.to_csv(\"datafolder/spotfy_2010_2019/spotfy_data.csv\")\n"
   ]
  }
 ],
 "metadata": {
  "kernelspec": {
   "display_name": "Python 3.9.13 64-bit",
   "language": "python",
   "name": "python3"
  },
  "language_info": {
   "codemirror_mode": {
    "name": "ipython",
    "version": 3
   },
   "file_extension": ".py",
   "mimetype": "text/x-python",
   "name": "python",
   "nbconvert_exporter": "python",
   "pygments_lexer": "ipython3",
   "version": "3.9.13"
  },
  "orig_nbformat": 4,
  "vscode": {
   "interpreter": {
    "hash": "43888f077bd4690fd13740e4fb3e715bb64facb976d1648c14231d891c61574a"
   }
  }
 },
 "nbformat": 4,
 "nbformat_minor": 2
}
