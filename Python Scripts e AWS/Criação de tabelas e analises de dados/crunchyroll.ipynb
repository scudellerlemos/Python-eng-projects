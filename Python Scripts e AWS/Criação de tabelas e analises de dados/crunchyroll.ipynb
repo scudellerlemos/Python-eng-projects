{
 "cells": [
  {
   "cell_type": "code",
   "execution_count": 1,
   "metadata": {},
   "outputs": [],
   "source": [
    "import pandas as pd\n"
   ]
  },
  {
   "cell_type": "code",
   "execution_count": 2,
   "metadata": {},
   "outputs": [
    {
     "name": "stdout",
     "output_type": "stream",
     "text": [
      "Arquivos foram lidos com sucesso!\n"
     ]
    }
   ],
   "source": [
    "df_titles = pd.read_csv(\"datafolder/crunchyroll_data/titles.csv\")\n",
    "df_credits = pd.read_csv(\"datafolder/crunchyroll_data/credits.csv\")\n",
    "print('Arquivos foram lidos com sucesso!')\n"
   ]
  },
  {
   "cell_type": "code",
   "execution_count": 3,
   "metadata": {},
   "outputs": [
    {
     "name": "stdout",
     "output_type": "stream",
     "text": [
      "Dataframe criado!\n"
     ]
    }
   ],
   "source": [
    "df_animes = pd.merge(df_titles, df_credits ,how = \"left\", on = \"id\")\n",
    "print(\"Dataframe criado!\")"
   ]
  },
  {
   "cell_type": "code",
   "execution_count": 4,
   "metadata": {},
   "outputs": [
    {
     "name": "stdout",
     "output_type": "stream",
     "text": [
      "Nomes de colunas alterados para ['ID', 'Titulo', 'Tipo', 'Descricao', 'Ano_Lancamento', 'Duracao_min', 'Generos', 'Pais_produzido', 'Temporadas', 'Score_IMDB', 'Votos_IMDB', 'Popularidade_TMDB', 'TMDB_Score', 'Nome', 'Personagem', 'Funcao']\n"
     ]
    }
   ],
   "source": [
    "df_animes.drop([\"person_id\",\"imdb_id\",\"age_certification\"], axis = 1,inplace=True)\n",
    "animes_columns = [\"ID\",\"Titulo\",\"Tipo\",\"Descricao\",\"Ano_Lancamento\",\"Duracao_min\",\"Generos\",\"Pais_produzido\",\"Temporadas\",\"Score_IMDB\",\"Votos_IMDB\",\"Popularidade_TMDB\",\"TMDB_Score\",\"Nome\",\"Personagem\",\"Funcao\"] \n",
    "df_animes.columns=animes_columns\n",
    "print(\"Nomes de colunas alterados para \"+ str(animes_columns))"
   ]
  },
  {
   "cell_type": "code",
   "execution_count": 5,
   "metadata": {},
   "outputs": [
    {
     "name": "stdout",
     "output_type": "stream",
     "text": [
      "Ordens das colunas mudaram para a ordem ['ID', 'Titulo', 'Descricao', 'Tipo', 'Generos', 'Temporadas', 'Ano_Lancamento', 'Duracao_min', 'Pais_produzido', 'Score_IMDB', 'Votos_IMDB', 'Popularidade_TMDB', 'TMDB_Score', 'Nome', 'Personagem', 'Funcao']\n"
     ]
    }
   ],
   "source": [
    "\n",
    "cols_sorted= list(animes_columns[0:2] + animes_columns[3:4] + animes_columns[2:3]+animes_columns[6:7] + animes_columns[8:9]+animes_columns[4:6] +animes_columns[7:8] + animes_columns[9:])\n",
    "print(\"Ordens das colunas mudaram para a ordem \" + str(cols_sorted))\n",
    "df_animes_sorted= df_animes[cols_sorted]\n"
   ]
  },
  {
   "cell_type": "code",
   "execution_count": 6,
   "metadata": {},
   "outputs": [
    {
     "name": "stdout",
     "output_type": "stream",
     "text": [
      "Transformações das colunas em str para numerico feitas com sucesso!\n"
     ]
    }
   ],
   "source": [
    "df_animes_sorted[\"Score_IMDB\"]= pd.to_numeric(df_animes_sorted[\"Score_IMDB\"])\n",
    "df_animes_sorted[\"Votos_IMDB\"]= pd.to_numeric(df_animes_sorted[\"Votos_IMDB\"])\n",
    "df_animes_sorted[\"Popularidade_TMDB\"]= pd.to_numeric(df_animes_sorted[\"Popularidade_TMDB\"])\n",
    "df_animes_sorted[\"TMDB_Score\"]= pd.to_numeric(df_animes_sorted[\"TMDB_Score\"])\n",
    "df_animes_sorted[\"Ano_Lancamento\"]= pd.to_numeric(df_animes_sorted[\"Ano_Lancamento\"])\n",
    "df_animes_sorted[\"Temporadas\"]= pd.to_numeric(df_animes_sorted[\"Temporadas\"])\n",
    "df_animes_sorted[\"Duracao_min\"]= pd.to_numeric(df_animes_sorted[\"Duracao_min\"])\n",
    "print(\"Transformações das colunas em str para numerico feitas com sucesso!\")"
   ]
  },
  {
   "cell_type": "code",
   "execution_count": 7,
   "metadata": {},
   "outputs": [
    {
     "name": "stdout",
     "output_type": "stream",
     "text": [
      "<class 'pandas.core.frame.DataFrame'>\n",
      "Int64Index: 10010 entries, 0 to 10009\n",
      "Data columns (total 16 columns):\n",
      " #   Column             Non-Null Count  Dtype  \n",
      "---  ------             --------------  -----  \n",
      " 0   ID                 10010 non-null  object \n",
      " 1   Titulo             10010 non-null  object \n",
      " 2   Descricao          9907 non-null   object \n",
      " 3   Tipo               10010 non-null  object \n",
      " 4   Generos            10010 non-null  object \n",
      " 5   Temporadas         9977 non-null   float64\n",
      " 6   Ano_Lancamento     10010 non-null  int64  \n",
      " 7   Duracao_min        10010 non-null  int64  \n",
      " 8   Pais_produzido     10010 non-null  object \n",
      " 9   Score_IMDB         8850 non-null   float64\n",
      " 10  Votos_IMDB         8850 non-null   float64\n",
      " 11  Popularidade_TMDB  9997 non-null   float64\n",
      " 12  TMDB_Score         9642 non-null   float64\n",
      " 13  Nome               9902 non-null   object \n",
      " 14  Personagem         9252 non-null   object \n",
      " 15  Funcao             9902 non-null   object \n",
      "dtypes: float64(5), int64(2), object(9)\n",
      "memory usage: 1.3+ MB\n",
      "Transforção da Coluna de Genero realizada com sucesso!\n"
     ]
    }
   ],
   "source": [
    "df_animes_sorted.info()\n",
    "df_animes_sorted[\"Generos\"] = df_animes_sorted[\"Generos\"].str.split(\",\")\n",
    "df_animes_sorted=df_animes_sorted.explode(\"Generos\")\n",
    "df_animes_sorted[\"Generos\"] = df_animes_sorted[\"Generos\"].str.split(\"]\")\n",
    "df_animes_sorted=df_animes_sorted.explode(\"Generos\")\n",
    "df_animes_sorted[\"Generos\"] = df_animes_sorted[\"Generos\"].str.split(\"[\")\n",
    "df_animes_sorted=df_animes_sorted.explode(\"Generos\")\n",
    "df_animes_sorted[\"Generos\"].replace(regex=\"'\", value=\"\",inplace=True)\n",
    "\n",
    "\n",
    "print(\"Transforção da Coluna de Genero realizada com sucesso!\")"
   ]
  },
  {
   "cell_type": "code",
   "execution_count": 8,
   "metadata": {},
   "outputs": [
    {
     "name": "stdout",
     "output_type": "stream",
     "text": [
      "Transforção da Pais_produzido realizada com sucesso!\n"
     ]
    }
   ],
   "source": [
    "df_animes_sorted[\"Pais_produzido\"]=df_animes_sorted[\"Pais_produzido\"].str.split(\"[\")\n",
    "df_animes_sorted=df_animes_sorted.explode(\"Pais_produzido\")\n",
    "df_animes_sorted[\"Pais_produzido\"]=df_animes_sorted[\"Pais_produzido\"].str.split(\"]\")\n",
    "df_animes_sorted=df_animes_sorted.explode(\"Pais_produzido\")\n",
    "df_animes_sorted[\"Pais_produzido\"].replace(regex=\"'\",value=\"\",inplace=True)\n",
    "df_animes_sorted.replace(\"\", float(\"NaN\"), inplace=True)\n",
    "df_animes_sorted.dropna(subset=[\"Generos\",\"Pais_produzido\"], inplace=True)\n",
    "\n",
    "print(\"Transforção da Pais_produzido realizada com sucesso!\")"
   ]
  },
  {
   "cell_type": "code",
   "execution_count": 9,
   "metadata": {},
   "outputs": [
    {
     "name": "stdout",
     "output_type": "stream",
     "text": [
      "Filtro realizado, animes com 2+ temporadas e com Ano de Lançamento >2010 com SCORE IMDB >=9\n"
     ]
    }
   ],
   "source": [
    "df_animes_filtered = df_animes_sorted.query('Temporadas > 2 and Temporadas < 6  and Ano_Lancamento > 2010 and Score_IMDB >=9')\n",
    "print(\"Filtro realizado, animes com 2+ temporadas e com Ano de Lançamento >2010 com SCORE IMDB >=9\")"
   ]
  },
  {
   "cell_type": "code",
   "execution_count": 10,
   "metadata": {},
   "outputs": [],
   "source": [
    "df_animes_filtered.set_index(\"ID\",inplace=True)\n",
    "df_animes_filtered.to_csv(\"datafolder/crunchyroll_data/ANIMES_2TEMP_SCORE.csv\")\n"
   ]
  }
 ],
 "metadata": {
  "kernelspec": {
   "display_name": "Python 3.10.7 64-bit",
   "language": "python",
   "name": "python3"
  },
  "language_info": {
   "codemirror_mode": {
    "name": "ipython",
    "version": 3
   },
   "file_extension": ".py",
   "mimetype": "text/x-python",
   "name": "python",
   "nbconvert_exporter": "python",
   "pygments_lexer": "ipython3",
   "version": "3.10.7"
  },
  "orig_nbformat": 4,
  "vscode": {
   "interpreter": {
    "hash": "bb2ba277de041729ec6d8e6935e21ac5d8f6e696b3f422080882f75ddfae449f"
   }
  }
 },
 "nbformat": 4,
 "nbformat_minor": 2
}
