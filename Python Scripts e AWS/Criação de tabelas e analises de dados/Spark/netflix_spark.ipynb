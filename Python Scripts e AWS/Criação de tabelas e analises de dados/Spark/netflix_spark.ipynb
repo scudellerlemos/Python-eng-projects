{
 "cells": [
  {
   "cell_type": "code",
   "execution_count": 1,
   "metadata": {},
   "outputs": [],
   "source": [
    "import findspark\n",
    "findspark.init()"
   ]
  },
  {
   "cell_type": "code",
   "execution_count": 2,
   "metadata": {},
   "outputs": [],
   "source": [
    "from pyspark.sql import SparkSession\n",
    "from pyspark.sql.functions import *"
   ]
  },
  {
   "cell_type": "code",
   "execution_count": 3,
   "metadata": {},
   "outputs": [],
   "source": [
    "spark = SparkSession.builder.getOrCreate()"
   ]
  },
  {
   "cell_type": "code",
   "execution_count": 4,
   "metadata": {},
   "outputs": [],
   "source": [
    "df_netflix_raw = spark.read.csv(\"C:\\\\Users\\\\Keyrus\\\\Documents\\\\GitHub\\\\Python-eng-projects\\\\Projetos_Python\\\\Analises_tratamento_bases\\\\datafolder\\\\netflix_data\\\\titles.csv\",header = True)"
   ]
  },
  {
   "cell_type": "code",
   "execution_count": 5,
   "metadata": {},
   "outputs": [],
   "source": [
    "df_netfliw_credits_raw= spark.read.csv(\"C:\\\\Users\\\\Keyrus\\\\Documents\\\\GitHub\\\\Python-eng-projects\\\\Projetos_Python\\\\Analises_tratamento_bases\\\\datafolder\\\\netflix_data\\\\credits.csv\",header=True)"
   ]
  },
  {
   "cell_type": "code",
   "execution_count": 6,
   "metadata": {},
   "outputs": [],
   "source": [
    "df_netfliw_titles_analytics = df_netflix_raw.join(df_netfliw_credits_raw, df_netflix_raw.id == df_netfliw_credits_raw.id,\"left\")"
   ]
  },
  {
   "cell_type": "code",
   "execution_count": 7,
   "metadata": {},
   "outputs": [
    {
     "data": {
      "text/plain": [
       "['id',\n",
       " 'title',\n",
       " 'type',\n",
       " 'description',\n",
       " 'release_year',\n",
       " 'age_certification',\n",
       " 'runtime',\n",
       " 'genres',\n",
       " 'production_countries',\n",
       " 'seasons',\n",
       " 'imdb_id',\n",
       " 'imdb_score',\n",
       " 'imdb_votes',\n",
       " 'tmdb_popularity',\n",
       " 'tmdb_score',\n",
       " 'person_id',\n",
       " 'id',\n",
       " 'name',\n",
       " 'character',\n",
       " 'role']"
      ]
     },
     "execution_count": 7,
     "metadata": {},
     "output_type": "execute_result"
    }
   ],
   "source": [
    "df_netfliw_titles_analytics.columns"
   ]
  },
  {
   "cell_type": "code",
   "execution_count": 8,
   "metadata": {},
   "outputs": [],
   "source": [
    "columns_anayltics_netflix = [\"title\",\"type\",\"release_year\",\"runtime\",\"genres\",\"production_countries\",\"seasons\",\"imdb_score\",\"imdb_votes\",\"tmdb_popularity\",\"tmdb_score\",\"name\",\"character\",\"role\"]"
   ]
  },
  {
   "cell_type": "code",
   "execution_count": 12,
   "metadata": {},
   "outputs": [],
   "source": [
    "df_netfliw_titles_analytics = df_netfliw_titles_analytics.select(columns_anayltics_netflix).filter(\"tmdb_score >1000\")"
   ]
  }
 ],
 "metadata": {
  "kernelspec": {
   "display_name": "Python 3.10.7 64-bit",
   "language": "python",
   "name": "python3"
  },
  "language_info": {
   "codemirror_mode": {
    "name": "ipython",
    "version": 3
   },
   "file_extension": ".py",
   "mimetype": "text/x-python",
   "name": "python",
   "nbconvert_exporter": "python",
   "pygments_lexer": "ipython3",
   "version": "3.10.7"
  },
  "orig_nbformat": 4,
  "vscode": {
   "interpreter": {
    "hash": "bb2ba277de041729ec6d8e6935e21ac5d8f6e696b3f422080882f75ddfae449f"
   }
  }
 },
 "nbformat": 4,
 "nbformat_minor": 2
}
