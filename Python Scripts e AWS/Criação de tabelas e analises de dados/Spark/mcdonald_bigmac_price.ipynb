{
 "cells": [
  {
   "cell_type": "code",
   "execution_count": 1,
   "metadata": {},
   "outputs": [],
   "source": [
    "import findspark\n",
    "findspark.init()\n"
   ]
  },
  {
   "cell_type": "code",
   "execution_count": 2,
   "metadata": {},
   "outputs": [],
   "source": [
    "from pyspark.sql import SparkSession\n",
    "from pyspark.sql import functions as func\n",
    "from pyspark.sql.functions import * "
   ]
  },
  {
   "cell_type": "code",
   "execution_count": 3,
   "metadata": {},
   "outputs": [],
   "source": [
    "spark = SparkSession.builder.getOrCreate()"
   ]
  },
  {
   "cell_type": "code",
   "execution_count": 4,
   "metadata": {},
   "outputs": [],
   "source": [
    "bigmac_df = spark.read.csv(\"C:\\\\Users\\\\Keyrus\\\\Documents\\\\GitHub\\\\Python-eng-projects\\\\Projetos_Python\\\\Analises_tratamento_bases\\\\datafolder\\\\mcdonald_data\\\\BigmacPrice.csv\",header=True)"
   ]
  },
  {
   "cell_type": "code",
   "execution_count": 5,
   "metadata": {},
   "outputs": [
    {
     "name": "stdout",
     "output_type": "stream",
     "text": [
      "+----------+-------------+---------+-----------+-----------+------------------+\n",
      "|      date|currency_code|     name|local_price|  dollar_ex|      dollar_price|\n",
      "+----------+-------------+---------+-----------+-----------+------------------+\n",
      "|2000-04-01|          ARS|Argentina|        2.5|        1.0|               2.5|\n",
      "|2000-04-01|          AUD|Australia|       2.59|       1.68|1.5416666666666698|\n",
      "|2000-04-01|          BRL|   Brazil|       2.95|       1.79|  1.64804469273743|\n",
      "|2000-04-01|          GBP|  Britain|        1.9|0.632911392|3.0020000019212802|\n",
      "|2000-04-01|          CAD|   Canada|       2.85|       1.47|  1.93877551020408|\n",
      "+----------+-------------+---------+-----------+-----------+------------------+\n",
      "only showing top 5 rows\n",
      "\n"
     ]
    }
   ],
   "source": [
    "bigmac_df.show(5)"
   ]
  },
  {
   "cell_type": "code",
   "execution_count": 6,
   "metadata": {},
   "outputs": [
    {
     "name": "stdout",
     "output_type": "stream",
     "text": [
      "root\n",
      " |-- date: string (nullable = true)\n",
      " |-- currency_code: string (nullable = true)\n",
      " |-- name: string (nullable = true)\n",
      " |-- local_price: string (nullable = true)\n",
      " |-- dollar_ex: string (nullable = true)\n",
      " |-- dollar_price: string (nullable = true)\n",
      "\n"
     ]
    }
   ],
   "source": [
    "bigmac_df.printSchema()"
   ]
  },
  {
   "cell_type": "code",
   "execution_count": 7,
   "metadata": {},
   "outputs": [],
   "source": [
    "bigmac_df = bigmac_df.withColumn(\"local_price\",func.col(\"local_price\").cast(\"Float\"))\n",
    "bigmac_df = bigmac_df.withColumn(\"dollar_ex\",func.col(\"dollar_ex\").cast(\"Float\"))\n",
    "bigmac_df = bigmac_df.withColumn(\"dollar_price\",func.col(\"dollar_price\").cast(\"Float\"))"
   ]
  },
  {
   "cell_type": "code",
   "execution_count": 8,
   "metadata": {},
   "outputs": [
    {
     "name": "stdout",
     "output_type": "stream",
     "text": [
      "root\n",
      " |-- date: string (nullable = true)\n",
      " |-- currency_code: string (nullable = true)\n",
      " |-- name: string (nullable = true)\n",
      " |-- local_price: float (nullable = true)\n",
      " |-- dollar_ex: float (nullable = true)\n",
      " |-- dollar_price: float (nullable = true)\n",
      "\n"
     ]
    }
   ],
   "source": [
    "bigmac_df.printSchema()"
   ]
  },
  {
   "cell_type": "code",
   "execution_count": 25,
   "metadata": {},
   "outputs": [
    {
     "name": "stdout",
     "output_type": "stream",
     "text": [
      "+----------+-------------+--------------+-----------+---------+------------+\n",
      "|      date|currency_code|          name|local_price|dollar_ex|dollar_price|\n",
      "+----------+-------------+--------------+-----------+---------+------------+\n",
      "|2000-04-01|          ARS|     Argentina|        2.5|      1.0|         2.5|\n",
      "|2000-04-01|          AUD|     Australia|       2.59|     1.68|   1.5416666|\n",
      "|2000-04-01|          BRL|        Brazil|       2.95|     1.79|   1.6480447|\n",
      "|2000-04-01|          GBP|       Britain|        1.9|0.6329114|       3.002|\n",
      "|2000-04-01|          CAD|        Canada|       2.85|     1.47|   1.9387755|\n",
      "|2000-04-01|          CLP|         Chile|     1260.0|    514.0|    2.451362|\n",
      "|2000-04-01|          CNY|         China|        9.9|     8.28|   1.1956521|\n",
      "|2000-04-01|          CZK|Czech Republic|      54.37|     39.1|   1.3905371|\n",
      "|2000-04-01|          DKK|       Denmark|      24.75|     8.04|   3.0783582|\n",
      "|2000-04-01|          EUR|     Euro area|       2.56|1.0752689|      2.3808|\n",
      "+----------+-------------+--------------+-----------+---------+------------+\n",
      "only showing top 10 rows\n",
      "\n"
     ]
    }
   ],
   "source": [
    "bigmac_df.show(10)"
   ]
  },
  {
   "cell_type": "code",
   "execution_count": 23,
   "metadata": {},
   "outputs": [],
   "source": [
    "bigmac_df_selected = bigmac_df.filter((bigmac_df.dollar_ex >15) & (bigmac_df.local_price>50)).groupBy(\"currency_code\",\"name\").agg(sum(\"dollar_price\"))\n"
   ]
  },
  {
   "cell_type": "code",
   "execution_count": 26,
   "metadata": {},
   "outputs": [
    {
     "name": "stdout",
     "output_type": "stream",
     "text": [
      "+-------------+--------------+------------------+\n",
      "|currency_code|          name| sum(dollar_price)|\n",
      "+-------------+--------------+------------------+\n",
      "|          CLP|         Chile|106.13718390464783|\n",
      "|          ARS|     Argentina|21.979254961013794|\n",
      "|          TRY|        Turkey| 7.943038463592529|\n",
      "|          UYU|       Uruguay|100.64353847503662|\n",
      "|          JPY|         Japan| 98.91559910774231|\n",
      "|          TWD|        Taiwan|  75.0512182712555|\n",
      "|          LKR|     Sri Lanka|   70.685586810112|\n",
      "|          VND|       Vietnam| 33.17307448387146|\n",
      "|          CZK|Czech Republic| 93.32883942127228|\n",
      "|          PHP|   Philippines| 73.78859853744507|\n",
      "+-------------+--------------+------------------+\n",
      "only showing top 10 rows\n",
      "\n"
     ]
    }
   ],
   "source": [
    "bigmac_df_selected.show(10)"
   ]
  },
  {
   "cell_type": "code",
   "execution_count": 27,
   "metadata": {},
   "outputs": [],
   "source": [
    "bigmac_df_selected.write.option(\"header\",True).csv(\"C:\\\\Users\\\\Keyrus\\\\Documents\\GitHub\\\\Python-eng-projects\\\\Projetos_Python\\\\Analises_tratamento_bases\\\\Spark\\\\bigmac_price_filtered.csv\")"
   ]
  },
  {
   "cell_type": "code",
   "execution_count": 32,
   "metadata": {},
   "outputs": [],
   "source": [
    "bigmac_df_selected.repartition(1).write.csv(\"big_mac_price\")"
   ]
  }
 ],
 "metadata": {
  "kernelspec": {
   "display_name": "Python 3.10.7 64-bit",
   "language": "python",
   "name": "python3"
  },
  "language_info": {
   "codemirror_mode": {
    "name": "ipython",
    "version": 3
   },
   "file_extension": ".py",
   "mimetype": "text/x-python",
   "name": "python",
   "nbconvert_exporter": "python",
   "pygments_lexer": "ipython3",
   "version": "3.10.7"
  },
  "orig_nbformat": 4,
  "vscode": {
   "interpreter": {
    "hash": "bb2ba277de041729ec6d8e6935e21ac5d8f6e696b3f422080882f75ddfae449f"
   }
  }
 },
 "nbformat": 4,
 "nbformat_minor": 2
}
