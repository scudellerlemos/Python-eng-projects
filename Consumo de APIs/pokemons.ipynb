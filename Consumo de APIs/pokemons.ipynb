{
 "cells": [
  {
   "cell_type": "code",
   "execution_count": 1,
   "metadata": {},
   "outputs": [],
   "source": [
    "import json\n",
    "import requests as re\n",
    "import pandas as pd"
   ]
  },
  {
   "cell_type": "code",
   "execution_count": 2,
   "metadata": {},
   "outputs": [],
   "source": [
    "def dados(tipo,id):\n",
    "    response = re.get(\"https://pokeapi.co/api/v2/\"+ tipo +\"/\" + (id))\n",
    "    return response.json()\n",
    "\n",
    "    \n",
    "def dados_pokemon_all():\n",
    "    response = re.get(\"https://pokeapi.co/api/v2/pokemon/\")\n",
    "    print(response.status_code)\n",
    "    return response.json()\n",
    "\n",
    "def flatten_data(y):\n",
    "    out = {}\n",
    "\n",
    "    def flatten(x, name=''):\n",
    "        if type(x) is dict:\n",
    "            for a in x:\n",
    "                flatten(x[a], name + a + '_')\n",
    "        elif type(x) is list:\n",
    "            i = 0\n",
    "            for a in x:\n",
    "                flatten(a, name + str(i) + '_')\n",
    "                i += 1\n",
    "        else:\n",
    "            out[name[:-1]] = x\n",
    "\n",
    "    flatten(y)\n",
    "    return out\n",
    "\n",
    "def select_colunas(df):\n",
    "    df = pd.DataFrame(df)\n",
    "    df = df.columns * (df.applymap(type) == str).all(0)\n",
    "    df.replace(regex=\"\",value=float(\"NaN\"), inplace=True)\n",
    "    df.dropna(axis=\"index\", inplace=True)\n",
    "    df.reset_index(drop=True, inplace=True)\n",
    "    df = df.tolist()\n",
    "    return df\n",
    "    \n",
    "def select_valores(df):\n",
    "    df = pd.DataFrame(df)\n",
    "    df = df.columns * (df.applymap(type) == int).all(0)\n",
    "    df.replace(regex=\"\",value=float(\"NaN\"), inplace=True)\n",
    "    df.dropna(axis=\"index\", inplace=True)\n",
    "    df.reset_index(drop=True, inplace=True)\n",
    "    df = df.tolist()\n",
    "    return df"
   ]
  },
  {
   "cell_type": "code",
   "execution_count": 3,
   "metadata": {},
   "outputs": [],
   "source": [
    "dimensao_pokemon= pd.DataFrame([])\n",
    "for id in range(1,21):\n",
    "    linha_pokemon = dados(\"pokemon\",str(id))\n",
    "    pokemon_apoio_dimensao = pd.DataFrame(flatten_data(linha_pokemon),index=flatten_data(linha_pokemon).keys())\n",
    "    pokemon_apoio_dimensao.drop(list(pokemon_apoio_dimensao.filter(regex = \"sprite\")), axis = 1, inplace = True)\n",
    "    pokemon_apoio_dimensao.drop(list(pokemon_apoio_dimensao.filter(regex = \"moves\")), axis = 1, inplace = True)\n",
    "    pokemon_apoio_dimensao.drop(list(pokemon_apoio_dimensao.filter(regex = \"game\")), axis = 1, inplace = True)\n",
    "    pokemon_apoio_dimensao.drop(list(pokemon_apoio_dimensao.filter(regex = \"is_hidden\")), axis = 1, inplace = True)\n",
    "    pokemon_apoio_dimensao.drop(list(pokemon_apoio_dimensao.filter(regex = \"is_default\")), axis = 1, inplace = True)\n",
    "    pokemon_apoio_dimensao.drop(list(pokemon_apoio_dimensao.filter(regex = \"slot\")), axis = 1, inplace = True)\n",
    "    pokemon_apoio_dimensao.drop(list(pokemon_apoio_dimensao.filter(regex = \"effort\")), axis = 1, inplace = True)\n",
    "    pokemon_apoio_dimensao.drop(list(pokemon_apoio_dimensao.filter(regex = \"forms\")), axis = 1, inplace = True)\n",
    "    pokemon_apoio_dimensao.drop(list(pokemon_apoio_dimensao.filter(regex = \"held\")), axis = 1, inplace = True)\n",
    "    pokemon_apoio_dimensao.drop([\"id\",\"order\",\"name\",\"species_name\",\"species_url\",], axis = 1, inplace = True)\n",
    "    pokemon_apoio_dimensao[\"ID_FATO\"]=\"https://pokeapi.co/api/v2/pokemon/\"+ str(id) + \"/\"\n",
    "    dimensao_pokemon= pd.concat([dimensao_pokemon,pokemon_apoio_dimensao])\n"
   ]
  },
  {
   "cell_type": "code",
   "execution_count": 4,
   "metadata": {},
   "outputs": [],
   "source": [
    "col_pokemon =list(dimensao_pokemon.columns)\n",
    "\n",
    "for x in range (0,6):\n",
    "    col_pokemon[col_pokemon.index(\"stats_\"+ str(x) +\"_base_stat\")] = dimensao_pokemon[\"stats_\"+ str(x) +\"_stat_name\"][0]\n",
    "\n",
    "dimensao_pokemon.columns = col_pokemon\n",
    "dimensao_pokemon.drop(list(dimensao_pokemon.filter(regex = \"stats\")), axis = 1, inplace = True)\n"
   ]
  },
  {
   "cell_type": "code",
   "execution_count": 5,
   "metadata": {},
   "outputs": [],
   "source": [
    "Valores_dict = {}\n",
    "for x in select_valores(dimensao_pokemon):\n",
    "     Valores_dict[x] = \"mean\"\n",
    "\n",
    "dimensao_pokemon = dimensao_pokemon.groupby(select_colunas(dimensao_pokemon)).agg(Valores_dict).reset_index()\n"
   ]
  },
  {
   "cell_type": "code",
   "execution_count": 7,
   "metadata": {},
   "outputs": [
    {
     "name": "stdout",
     "output_type": "stream",
     "text": [
      "200\n"
     ]
    }
   ],
   "source": [
    "fato = pd.DataFrame(dados_pokemon_all()[\"results\"])\n",
    "fato.columns = [\"pokemon\",\"ID_FATO\"]\n",
    "analitica= fato.merge(dimensao_pokemon, how='left', on=\"ID_FATO\")\n",
    "analitica.set_index(\"ID_FATO\", inplace = True)\n"
   ]
  },
  {
   "cell_type": "code",
   "execution_count": null,
   "metadata": {},
   "outputs": [],
   "source": []
  }
 ],
 "metadata": {
  "kernelspec": {
   "display_name": "Python 3.9.13 64-bit",
   "language": "python",
   "name": "python3"
  },
  "language_info": {
   "codemirror_mode": {
    "name": "ipython",
    "version": 3
   },
   "file_extension": ".py",
   "mimetype": "text/x-python",
   "name": "python",
   "nbconvert_exporter": "python",
   "pygments_lexer": "ipython3",
   "version": "3.9.13"
  },
  "orig_nbformat": 4,
  "vscode": {
   "interpreter": {
    "hash": "43888f077bd4690fd13740e4fb3e715bb64facb976d1648c14231d891c61574a"
   }
  }
 },
 "nbformat": 4,
 "nbformat_minor": 2
}
