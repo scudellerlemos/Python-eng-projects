{
 "cells": [
  {
   "cell_type": "code",
   "execution_count": 7,
   "metadata": {},
   "outputs": [],
   "source": [
    "import pandas as pd\n",
    "import requests as req\n",
    "import datetime as date\n",
    "import numpy as np\n",
    "import math\n",
    "import os "
   ]
  },
  {
   "cell_type": "code",
   "execution_count": null,
   "metadata": {},
   "outputs": [],
   "source": [
    "def dados_FC():\n",
    "    response = req.get(\"https://xivapi.com/freecompany/9234349560946634431?data=FCM\")\n",
    "    return response.json()\n",
    "\n",
    "def personagens(id):\n",
    "    response = req.get(\"https://xivapi.com/character/\"+ id)\n",
    "\n",
    "def read_discord():\n",
    "    headers = {\n",
    "        'authorization':'MTgxMTQxOTc4NDI2MjQ1MTQx.Gqv6An.-aH6hVA0dk6XfBYIn-p95SHy4Ux3TETgd1x6q0'\n",
    "    }\n",
    "    response = req.get(f\"https://discord.com/api/v9/channels/1063313834992992377/messages\", headers=headers)\n",
    "    return response.json()\n",
    "\n",
    "#POST METODO DISCORD\n",
    "####headers = {\n",
    "    #'authorization':'xxxxxx'}\n",
    "####payload = {\n",
    "    #'content':\"CONTEUDO DA MENSAGEM\"\n",
    "#}\n",
    "#response = req.post(f\"https://discord.com/api/v9/channels/1063313834992992377/messages\",data=payload, headers=headers)\n",
    "#response.json()"
   ]
  },
  {
   "cell_type": "code",
   "execution_count": null,
   "metadata": {},
   "outputs": [],
   "source": [
    "MEMBROS_FC = pd.DataFrame(dados_FC()[\"FreeCompanyMembers\"])\n",
    "MEMBROS_FC.drop([\"Lang\",\"RankIcon\",\"FeastMatches\",\"Server\"],axis = 1, inplace = True)\n"
   ]
  },
  {
   "cell_type": "code",
   "execution_count": null,
   "metadata": {},
   "outputs": [],
   "source": [
    "os.makedirs('DATABASES', exist_ok=True)  \n",
    "MEMBROS_FC.to_csv('DATABASES/RAW_MEMBROMS_ONTEM.csv')  "
   ]
  }
 ],
 "metadata": {
  "kernelspec": {
   "display_name": "Python 3",
   "language": "python",
   "name": "python3"
  },
  "language_info": {
   "codemirror_mode": {
    "name": "ipython",
    "version": 3
   },
   "file_extension": ".py",
   "mimetype": "text/x-python",
   "name": "python",
   "nbconvert_exporter": "python",
   "pygments_lexer": "ipython3",
   "version": "3.9.10 (tags/v3.9.10:f2f3f53, Jan 17 2022, 15:14:21) [MSC v.1929 64 bit (AMD64)]"
  },
  "orig_nbformat": 4,
  "vscode": {
   "interpreter": {
    "hash": "1a0efc7ed7210c8daa9aadd584bbae766f571d407ba1506112b0e572af6a4d67"
   }
  }
 },
 "nbformat": 4,
 "nbformat_minor": 2
}
