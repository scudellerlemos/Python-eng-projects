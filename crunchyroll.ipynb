{
 "cells": [
  {
   "cell_type": "code",
   "execution_count": 6,
   "metadata": {},
   "outputs": [],
   "source": [
    "import pandas as pd\n",
    "import numpy as np"
   ]
  },
  {
   "cell_type": "code",
   "execution_count": 7,
   "metadata": {},
   "outputs": [
    {
     "name": "stdout",
     "output_type": "stream",
     "text": [
      "Arquivos foram lidos com sucesso!\n"
     ]
    }
   ],
   "source": [
    "df_titles = pd.read_csv(\"datafolder/titles.csv\")\n",
    "df_credits = pd.read_csv(\"datafolder/credits.csv\")\n",
    "print('Arquivos foram lidos com sucesso!')"
   ]
  },
  {
   "cell_type": "code",
   "execution_count": 8,
   "metadata": {},
   "outputs": [
    {
     "name": "stdout",
     "output_type": "stream",
     "text": [
      "Dataframe criado!\n"
     ]
    }
   ],
   "source": [
    "df_animes = pd.merge(df_titles, df_credits ,how = \"left\", on = \"id\")\n",
    "print(\"Dataframe criado!\")"
   ]
  },
  {
   "cell_type": "code",
   "execution_count": 9,
   "metadata": {},
   "outputs": [
    {
     "name": "stdout",
     "output_type": "stream",
     "text": [
      "Nomes de colunas alterados\n"
     ]
    }
   ],
   "source": [
    "df_animes_drop=df_animes.drop([\"person_id\",\"imdb_id\",\"age_certification\"], axis = 1)\n",
    "animes_columns = [\"ID\",\"Titulo\",\"Tipo\",\"Descricao\",\"Ano_Lancamento\",\"Duracao_min\",\"Generos\",\"Pais_produzido\",\"Temporadas\",\"Score_IMDB\",\"Votos_IMDB\",\"Popularidade_TMDB\",\"TMDB_Score\",\"Nome\",\"Personagem\",\"Funcao\"] \n",
    "df_animes_drop.columns= animes_columns\n",
    "print(\"Nomes de colunas alterados\")"
   ]
  },
  {
   "cell_type": "code",
   "execution_count": 10,
   "metadata": {},
   "outputs": [
    {
     "data": {
      "text/html": [
       "<div>\n",
       "<style scoped>\n",
       "    .dataframe tbody tr th:only-of-type {\n",
       "        vertical-align: middle;\n",
       "    }\n",
       "\n",
       "    .dataframe tbody tr th {\n",
       "        vertical-align: top;\n",
       "    }\n",
       "\n",
       "    .dataframe thead th {\n",
       "        text-align: right;\n",
       "    }\n",
       "</style>\n",
       "<table border=\"1\" class=\"dataframe\">\n",
       "  <thead>\n",
       "    <tr style=\"text-align: right;\">\n",
       "      <th></th>\n",
       "      <th>ID</th>\n",
       "      <th>Titulo</th>\n",
       "      <th>Tipo</th>\n",
       "      <th>Descricao</th>\n",
       "      <th>Ano_Lancamento</th>\n",
       "      <th>Duracao_min</th>\n",
       "      <th>Generos</th>\n",
       "      <th>Pais_produzido</th>\n",
       "      <th>Temporadas</th>\n",
       "      <th>Score_IMDB</th>\n",
       "      <th>Votos_IMDB</th>\n",
       "      <th>Popularidade_TMDB</th>\n",
       "      <th>TMDB_Score</th>\n",
       "      <th>Nome</th>\n",
       "      <th>Personagem</th>\n",
       "      <th>Funcao</th>\n",
       "    </tr>\n",
       "  </thead>\n",
       "  <tbody>\n",
       "    <tr>\n",
       "      <th>0</th>\n",
       "      <td>ts21930</td>\n",
       "      <td>Lupin the Third</td>\n",
       "      <td>SHOW</td>\n",
       "      <td>Arsene Lupin III is the grandson of the master...</td>\n",
       "      <td>1971</td>\n",
       "      <td>23</td>\n",
       "      <td>['scifi', 'animation', 'action', 'comedy', 'cr...</td>\n",
       "      <td>['JP']</td>\n",
       "      <td>6.0</td>\n",
       "      <td>7.9</td>\n",
       "      <td>2116.0</td>\n",
       "      <td>45.829</td>\n",
       "      <td>8.0</td>\n",
       "      <td>Kanichi Kurita</td>\n",
       "      <td>Lupin Sansei (voice)</td>\n",
       "      <td>ACTOR</td>\n",
       "    </tr>\n",
       "    <tr>\n",
       "      <th>1</th>\n",
       "      <td>ts21930</td>\n",
       "      <td>Lupin the Third</td>\n",
       "      <td>SHOW</td>\n",
       "      <td>Arsene Lupin III is the grandson of the master...</td>\n",
       "      <td>1971</td>\n",
       "      <td>23</td>\n",
       "      <td>['scifi', 'animation', 'action', 'comedy', 'cr...</td>\n",
       "      <td>['JP']</td>\n",
       "      <td>6.0</td>\n",
       "      <td>7.9</td>\n",
       "      <td>2116.0</td>\n",
       "      <td>45.829</td>\n",
       "      <td>8.0</td>\n",
       "      <td>Daisuke Namikawa</td>\n",
       "      <td>Ishikawa Goemon (voice)</td>\n",
       "      <td>ACTOR</td>\n",
       "    </tr>\n",
       "    <tr>\n",
       "      <th>2</th>\n",
       "      <td>ts21930</td>\n",
       "      <td>Lupin the Third</td>\n",
       "      <td>SHOW</td>\n",
       "      <td>Arsene Lupin III is the grandson of the master...</td>\n",
       "      <td>1971</td>\n",
       "      <td>23</td>\n",
       "      <td>['scifi', 'animation', 'action', 'comedy', 'cr...</td>\n",
       "      <td>['JP']</td>\n",
       "      <td>6.0</td>\n",
       "      <td>7.9</td>\n",
       "      <td>2116.0</td>\n",
       "      <td>45.829</td>\n",
       "      <td>8.0</td>\n",
       "      <td>Miyuki Sawashiro</td>\n",
       "      <td>Mine Fujiko (voice)</td>\n",
       "      <td>ACTOR</td>\n",
       "    </tr>\n",
       "    <tr>\n",
       "      <th>3</th>\n",
       "      <td>ts21930</td>\n",
       "      <td>Lupin the Third</td>\n",
       "      <td>SHOW</td>\n",
       "      <td>Arsene Lupin III is the grandson of the master...</td>\n",
       "      <td>1971</td>\n",
       "      <td>23</td>\n",
       "      <td>['scifi', 'animation', 'action', 'comedy', 'cr...</td>\n",
       "      <td>['JP']</td>\n",
       "      <td>6.0</td>\n",
       "      <td>7.9</td>\n",
       "      <td>2116.0</td>\n",
       "      <td>45.829</td>\n",
       "      <td>8.0</td>\n",
       "      <td>Akio Otsuka</td>\n",
       "      <td>Daisuke Jigen (voice)</td>\n",
       "      <td>ACTOR</td>\n",
       "    </tr>\n",
       "    <tr>\n",
       "      <th>4</th>\n",
       "      <td>ts21930</td>\n",
       "      <td>Lupin the Third</td>\n",
       "      <td>SHOW</td>\n",
       "      <td>Arsene Lupin III is the grandson of the master...</td>\n",
       "      <td>1971</td>\n",
       "      <td>23</td>\n",
       "      <td>['scifi', 'animation', 'action', 'comedy', 'cr...</td>\n",
       "      <td>['JP']</td>\n",
       "      <td>6.0</td>\n",
       "      <td>7.9</td>\n",
       "      <td>2116.0</td>\n",
       "      <td>45.829</td>\n",
       "      <td>8.0</td>\n",
       "      <td>Koichi Yamadera</td>\n",
       "      <td>Zenigata (voice)</td>\n",
       "      <td>ACTOR</td>\n",
       "    </tr>\n",
       "  </tbody>\n",
       "</table>\n",
       "</div>"
      ],
      "text/plain": [
       "        ID           Titulo  Tipo  \\\n",
       "0  ts21930  Lupin the Third  SHOW   \n",
       "1  ts21930  Lupin the Third  SHOW   \n",
       "2  ts21930  Lupin the Third  SHOW   \n",
       "3  ts21930  Lupin the Third  SHOW   \n",
       "4  ts21930  Lupin the Third  SHOW   \n",
       "\n",
       "                                           Descricao  Ano_Lancamento  \\\n",
       "0  Arsene Lupin III is the grandson of the master...            1971   \n",
       "1  Arsene Lupin III is the grandson of the master...            1971   \n",
       "2  Arsene Lupin III is the grandson of the master...            1971   \n",
       "3  Arsene Lupin III is the grandson of the master...            1971   \n",
       "4  Arsene Lupin III is the grandson of the master...            1971   \n",
       "\n",
       "   Duracao_min                                            Generos  \\\n",
       "0           23  ['scifi', 'animation', 'action', 'comedy', 'cr...   \n",
       "1           23  ['scifi', 'animation', 'action', 'comedy', 'cr...   \n",
       "2           23  ['scifi', 'animation', 'action', 'comedy', 'cr...   \n",
       "3           23  ['scifi', 'animation', 'action', 'comedy', 'cr...   \n",
       "4           23  ['scifi', 'animation', 'action', 'comedy', 'cr...   \n",
       "\n",
       "  Pais_produzido  Temporadas  Score_IMDB  Votos_IMDB  Popularidade_TMDB  \\\n",
       "0         ['JP']         6.0         7.9      2116.0             45.829   \n",
       "1         ['JP']         6.0         7.9      2116.0             45.829   \n",
       "2         ['JP']         6.0         7.9      2116.0             45.829   \n",
       "3         ['JP']         6.0         7.9      2116.0             45.829   \n",
       "4         ['JP']         6.0         7.9      2116.0             45.829   \n",
       "\n",
       "   TMDB_Score              Nome               Personagem Funcao  \n",
       "0         8.0    Kanichi Kurita     Lupin Sansei (voice)  ACTOR  \n",
       "1         8.0  Daisuke Namikawa  Ishikawa Goemon (voice)  ACTOR  \n",
       "2         8.0  Miyuki Sawashiro      Mine Fujiko (voice)  ACTOR  \n",
       "3         8.0       Akio Otsuka    Daisuke Jigen (voice)  ACTOR  \n",
       "4         8.0   Koichi Yamadera         Zenigata (voice)  ACTOR  "
      ]
     },
     "execution_count": 10,
     "metadata": {},
     "output_type": "execute_result"
    }
   ],
   "source": [
    "df_anime_lupin = df_animes_drop.query('Titulo == \"Lupin the Third\"')\n",
    "df_anime_lupin.head()"
   ]
  }
 ],
 "metadata": {
  "kernelspec": {
   "display_name": "Python 3.9.13 64-bit",
   "language": "python",
   "name": "python3"
  },
  "language_info": {
   "codemirror_mode": {
    "name": "ipython",
    "version": 3
   },
   "file_extension": ".py",
   "mimetype": "text/x-python",
   "name": "python",
   "nbconvert_exporter": "python",
   "pygments_lexer": "ipython3",
   "version": "3.9.13"
  },
  "orig_nbformat": 4,
  "vscode": {
   "interpreter": {
    "hash": "43888f077bd4690fd13740e4fb3e715bb64facb976d1648c14231d891c61574a"
   }
  }
 },
 "nbformat": 4,
 "nbformat_minor": 2
}
